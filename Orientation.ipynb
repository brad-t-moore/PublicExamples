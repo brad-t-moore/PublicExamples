{
 "cells": [
  {
   "cell_type": "code",
   "execution_count": null,
   "id": "ed02e925",
   "metadata": {},
   "outputs": [],
   "source": [
    "import itk\n",
    "import nibabel\n",
    "import numpy as np\n",
    "from ipywidgets import interact\n",
    "import matplotlib.pyplot as plt\n",
    "from itkwidgets import view"
   ]
  },
  {
   "cell_type": "code",
   "execution_count": null,
   "id": "963ca0bf",
   "metadata": {},
   "outputs": [],
   "source": [
    "slices = ['orman-A2.png', 'orman-A1.png', 'orman-0.png', 'orman-P1.png', 'orman-P2.png']\n",
    "npimg = np.zeros((5, 50, 20))\n",
    "for x in range(len(slices)):\n",
    "    npimg[x, :, :] = itk.array_from_image(itk.imread(slices[x]))[:,:,0]\n",
    "\n",
    "npimg = npimg.astype('uint16')\n",
    "img = itk.image_from_array(npimg)"
   ]
  },
  {
   "cell_type": "code",
   "execution_count": null,
   "id": "a2dcb033",
   "metadata": {},
   "outputs": [],
   "source": [
    "@interact(x=(0, npimg.shape[0]-1, 1))\n",
    "def foo(x=0):\n",
    "    plt.imshow(npimg[x,:,:], cmap='gray')"
   ]
  },
  {
   "cell_type": "code",
   "execution_count": 16,
   "id": "6a2b048d",
   "metadata": {},
   "outputs": [
    {
     "data": {
      "application/vnd.jupyter.widget-view+json": {
       "model_id": "e51533cf205948d5bf548dbc7fbc8c95",
       "version_major": 2,
       "version_minor": 0
      },
      "text/plain": [
       "Viewer(axes=True, cmap=['grayscale'], geometries=[], gradient_opacity=0.22, interpolation=False, mode='z', poi…"
      ]
     },
     "metadata": {},
     "output_type": "display_data"
    }
   ],
   "source": [
    "view(img, interpolation=False, axes=True, mode='z', cmap='grayscale')"
   ]
  },
  {
   "cell_type": "markdown",
   "id": "ef8165d8",
   "metadata": {},
   "source": [
    "World space.  View Space.  Index Space.\n",
    "\n",
    "By default, Numpy/Matplotlib map the origin to UL  [z,y,x]\n",
    "\n",
    "ITK = [x,y,z]"
   ]
  },
  {
   "cell_type": "code",
   "execution_count": 17,
   "id": "a6635919",
   "metadata": {},
   "outputs": [],
   "source": [
    "itk.imwrite(img, 'orig-itk.nii')"
   ]
  },
  {
   "cell_type": "code",
   "execution_count": 18,
   "id": "e19d9cc7",
   "metadata": {},
   "outputs": [
    {
     "data": {
      "text/plain": [
       "{'origin': array([0., 0., 0.]),\n",
       " 'spacing': array([1., 1., 1.]),\n",
       " 'direction': array([[1., 0., 0.],\n",
       "        [0., 1., 0.],\n",
       "        [0., 0., 1.]])}"
      ]
     },
     "execution_count": 18,
     "metadata": {},
     "output_type": "execute_result"
    }
   ],
   "source": [
    "dict(img)"
   ]
  },
  {
   "cell_type": "code",
   "execution_count": 19,
   "id": "50ef4e4c",
   "metadata": {},
   "outputs": [],
   "source": [
    "img2 = itk.imread('orig-itk.nii')"
   ]
  },
  {
   "cell_type": "code",
   "execution_count": 20,
   "id": "bb50e960",
   "metadata": {},
   "outputs": [
    {
     "data": {
      "text/plain": [
       "{'ITK_FileNotes': '',\n",
       " 'aux_file': '',\n",
       " 'bitpix': '16',\n",
       " 'cal_max': '0',\n",
       " 'cal_min': '0',\n",
       " 'datatype': '512',\n",
       " 'descrip': '',\n",
       " 'dim[0]': '3',\n",
       " 'dim[1]': '20',\n",
       " 'dim[2]': '50',\n",
       " 'dim[3]': '5',\n",
       " 'dim[4]': '1',\n",
       " 'dim[5]': '1',\n",
       " 'dim[6]': '1',\n",
       " 'dim[7]': '1',\n",
       " 'dim_info': '0',\n",
       " 'intent_code': '0',\n",
       " 'intent_name': '',\n",
       " 'intent_p1': '0',\n",
       " 'intent_p2': '0',\n",
       " 'intent_p3': '0',\n",
       " 'nifti_type': '1',\n",
       " 'pixdim[0]': '0',\n",
       " 'pixdim[1]': '1',\n",
       " 'pixdim[2]': '1',\n",
       " 'pixdim[3]': '1',\n",
       " 'pixdim[4]': '0',\n",
       " 'pixdim[5]': '0',\n",
       " 'pixdim[6]': '0',\n",
       " 'pixdim[7]': '0',\n",
       " 'qform_code': '1',\n",
       " 'qform_code_name': 'NIFTI_XFORM_SCANNER_ANAT',\n",
       " 'qoffset_x': '-0',\n",
       " 'qoffset_y': '-0',\n",
       " 'qoffset_z': '0',\n",
       " 'quatern_b': '0',\n",
       " 'quatern_c': '0',\n",
       " 'quatern_d': '1',\n",
       " 'scl_inter': '0',\n",
       " 'scl_slope': '1',\n",
       " 'sform_code': '1',\n",
       " 'sform_code_name': 'NIFTI_XFORM_SCANNER_ANAT',\n",
       " 'slice_code': '0',\n",
       " 'slice_duration': '0',\n",
       " 'slice_end': '0',\n",
       " 'slice_start': '0',\n",
       " 'srow_x': '-1 0 0 -0',\n",
       " 'srow_y': '0 -1 0 -0',\n",
       " 'srow_z': '0 0 1 0',\n",
       " 'toffset': '0',\n",
       " 'vox_offset': '352',\n",
       " 'xyzt_units': '2',\n",
       " 'origin': array([0., 0., 0.]),\n",
       " 'spacing': array([1., 1., 1.]),\n",
       " 'direction': array([[1., 0., 0.],\n",
       "        [0., 1., 0.],\n",
       "        [0., 0., 1.]])}"
      ]
     },
     "execution_count": 20,
     "metadata": {},
     "output_type": "execute_result"
    }
   ],
   "source": [
    "dict(img2)"
   ]
  },
  {
   "cell_type": "code",
   "execution_count": 23,
   "id": "71ea2426",
   "metadata": {},
   "outputs": [
    {
     "data": {
      "application/vnd.jupyter.widget-view+json": {
       "model_id": "968b801f82d14044a7a418f2378a7275",
       "version_major": 2,
       "version_minor": 0
      },
      "text/plain": [
       "Viewer(geometries=[], gradient_opacity=0.22, point_sets=[], rendered_image=<itk.itkImagePython.itkImageUS3; pr…"
      ]
     },
     "metadata": {},
     "output_type": "display_data"
    }
   ],
   "source": [
    "view(img2)"
   ]
  },
  {
   "cell_type": "code",
   "execution_count": 24,
   "id": "e1e335cc",
   "metadata": {},
   "outputs": [
    {
     "data": {
      "text/plain": [
       "itkPointD3 ([12, 36, 0])"
      ]
     },
     "execution_count": 24,
     "metadata": {},
     "output_type": "execute_result"
    }
   ],
   "source": [
    "img2.TransformIndexToPhysicalPoint([12,36,0])"
   ]
  },
  {
   "cell_type": "code",
   "execution_count": null,
   "id": "ddbeb876",
   "metadata": {},
   "outputs": [],
   "source": []
  },
  {
   "cell_type": "code",
   "execution_count": null,
   "id": "26299afc",
   "metadata": {},
   "outputs": [],
   "source": []
  }
 ],
 "metadata": {
  "kernelspec": {
   "display_name": "Python 3",
   "language": "python",
   "name": "python3"
  },
  "language_info": {
   "codemirror_mode": {
    "name": "ipython",
    "version": 3
   },
   "file_extension": ".py",
   "mimetype": "text/x-python",
   "name": "python",
   "nbconvert_exporter": "python",
   "pygments_lexer": "ipython3",
   "version": "3.7.6"
  }
 },
 "nbformat": 4,
 "nbformat_minor": 5
}

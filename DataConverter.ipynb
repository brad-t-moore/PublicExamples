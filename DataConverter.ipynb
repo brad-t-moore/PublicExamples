{
 "cells": [
  {
   "cell_type": "code",
   "execution_count": 1,
   "metadata": {},
   "outputs": [],
   "source": [
    "import itk\n",
    "from itkwidgets import view"
   ]
  },
  {
   "cell_type": "code",
   "execution_count": 3,
   "metadata": {},
   "outputs": [
    {
     "name": "stdout",
     "output_type": "stream",
     "text": [
      "Image (000001FEEFB53070)\n",
      "  RTTI typeinfo:   class itk::Image<float,3>\n",
      "  Reference Count: 1\n",
      "  Modified Time: 795\n",
      "  Debug: Off\n",
      "  Object Name: \n",
      "  Observers: \n",
      "    none\n",
      "  Source: (none)\n",
      "  Source output name: (none)\n",
      "  Release Data: Off\n",
      "  Data Released: False\n",
      "  Global Release Data: Off\n",
      "  PipelineMTime: 609\n",
      "  UpdateMTime: 794\n",
      "  RealTimeStamp: 0 seconds \n",
      "  LargestPossibleRegion: \n",
      "    Dimension: 3\n",
      "    Index: [0, 0, 0]\n",
      "    Size: [512, 512, 55]\n",
      "  BufferedRegion: \n",
      "    Dimension: 3\n",
      "    Index: [0, 0, 0]\n",
      "    Size: [512, 512, 55]\n",
      "  RequestedRegion: \n",
      "    Dimension: 3\n",
      "    Index: [0, 0, 0]\n",
      "    Size: [512, 512, 55]\n",
      "  Spacing: [0.976562, 0.976562, 5]\n",
      "  Origin: [499.023, 499.023, 0]\n",
      "  Direction: \n",
      "-1 0 0\n",
      "0 -1 0\n",
      "0 0 1\n",
      "\n",
      "  IndexToPointMatrix: \n",
      "-0.976562 0 0\n",
      "0 -0.976562 0\n",
      "0 0 5\n",
      "\n",
      "  PointToIndexMatrix: \n",
      "-1.024 0 0\n",
      "0 -1.024 0\n",
      "0 0 0.2\n",
      "\n",
      "  Inverse Direction: \n",
      "-1 0 0\n",
      "0 -1 0\n",
      "0 0 1\n",
      "\n",
      "  PixelContainer: \n",
      "    ImportImageContainer (000001FEEFFD4260)\n",
      "      RTTI typeinfo:   class itk::ImportImageContainer<unsigned __int64,float>\n",
      "      Reference Count: 1\n",
      "      Modified Time: 791\n",
      "      Debug: Off\n",
      "      Object Name: \n",
      "      Observers: \n",
      "        none\n",
      "      Pointer: 000001FEF53A7040\n",
      "      Container manages memory: true\n",
      "      Size: 14417920\n",
      "      Capacity: 14417920\n",
      "\n"
     ]
    }
   ],
   "source": [
    "img = itk.imread('./data/Task09_Spleen/imagesTr/spleen_10.nii.gz')\n",
    "print(img)"
   ]
  },
  {
   "cell_type": "code",
   "execution_count": 13,
   "metadata": {},
   "outputs": [
    {
     "name": "stdout",
     "output_type": "stream",
     "text": [
      "-1024.0 3072.0\n"
     ]
    },
    {
     "ename": "RuntimeError",
     "evalue": "C:\\P\\IPP\\ITK-source\\ITK\\Modules\\IO\\GDCM\\src\\itkGDCMImageIO.cxx:1204:\nitk::ERROR: itk::ERROR: GDCMImageIO(000001FEF47D5600): A Floating point buffer was passed but the stored pixel type was not specified.This is currently not supported",
     "output_type": "error",
     "traceback": [
      "\u001b[1;31m---------------------------------------------------------------------------\u001b[0m",
      "\u001b[1;31mRuntimeError\u001b[0m                              Traceback (most recent call last)",
      "\u001b[1;32m<ipython-input-13-122704b923d1>\u001b[0m in \u001b[0;36m<module>\u001b[1;34m\u001b[0m\n\u001b[0;32m      3\u001b[0m \u001b[0mprint\u001b[0m\u001b[1;33m(\u001b[0m\u001b[0mminmax\u001b[0m\u001b[1;33m.\u001b[0m\u001b[0mGetMinimum\u001b[0m\u001b[1;33m(\u001b[0m\u001b[1;33m)\u001b[0m\u001b[1;33m,\u001b[0m \u001b[0mminmax\u001b[0m\u001b[1;33m.\u001b[0m\u001b[0mGetMaximum\u001b[0m\u001b[1;33m(\u001b[0m\u001b[1;33m)\u001b[0m\u001b[1;33m)\u001b[0m\u001b[1;33m\u001b[0m\u001b[1;33m\u001b[0m\u001b[0m\n\u001b[0;32m      4\u001b[0m \u001b[1;33m\u001b[0m\u001b[0m\n\u001b[1;32m----> 5\u001b[1;33m \u001b[0mitk\u001b[0m\u001b[1;33m.\u001b[0m\u001b[0mimwrite\u001b[0m\u001b[1;33m(\u001b[0m\u001b[0mimg\u001b[0m\u001b[1;33m,\u001b[0m \u001b[1;34m'./tmp.dcm'\u001b[0m\u001b[1;33m)\u001b[0m\u001b[1;33m\u001b[0m\u001b[1;33m\u001b[0m\u001b[0m\n\u001b[0m",
      "\u001b[1;32mc:\\src\\venv-3.7.6-ml\\lib\\site-packages\\itk\\support\\itkExtras.py\u001b[0m in \u001b[0;36mimwrite\u001b[1;34m(image_or_filter, filename, compression)\u001b[0m\n\u001b[0;32m    619\u001b[0m     )\n\u001b[0;32m    620\u001b[0m     \u001b[0mauto_pipeline\u001b[0m\u001b[1;33m.\u001b[0m\u001b[0mcurrent\u001b[0m \u001b[1;33m=\u001b[0m \u001b[0mtmp_auto_pipeline\u001b[0m\u001b[1;33m\u001b[0m\u001b[1;33m\u001b[0m\u001b[0m\n\u001b[1;32m--> 621\u001b[1;33m     \u001b[0mwriter\u001b[0m\u001b[1;33m.\u001b[0m\u001b[0mUpdate\u001b[0m\u001b[1;33m(\u001b[0m\u001b[1;33m)\u001b[0m\u001b[1;33m\u001b[0m\u001b[1;33m\u001b[0m\u001b[0m\n\u001b[0m\u001b[0;32m    622\u001b[0m \u001b[1;33m\u001b[0m\u001b[0m\n\u001b[0;32m    623\u001b[0m \u001b[1;33m\u001b[0m\u001b[0m\n",
      "\u001b[1;31mRuntimeError\u001b[0m: C:\\P\\IPP\\ITK-source\\ITK\\Modules\\IO\\GDCM\\src\\itkGDCMImageIO.cxx:1204:\nitk::ERROR: itk::ERROR: GDCMImageIO(000001FEF47D5600): A Floating point buffer was passed but the stored pixel type was not specified.This is currently not supported"
     ]
    }
   ],
   "source": [
    "minmax = itk.MinimumMaximumImageCalculator[itk.Image[itk.F, 3]].New(Image=img)\n",
    "minmax.Compute()\n",
    "print(minmax.GetMinimum(), minmax.GetMaximum())\n",
    "\n",
    "itk.imwrite(img, './tmp.dcm')"
   ]
  },
  {
   "cell_type": "code",
   "execution_count": 30,
   "metadata": {},
   "outputs": [
    {
     "name": "stdout",
     "output_type": "stream",
     "text": [
      "intercept(shift): -16383.75, scale: 15.999755859375\n",
      "img min: -1024.0, img max: 3072.0\n"
     ]
    }
   ],
   "source": [
    "import numpy as np\n",
    "def float_image_to_dicom(img, fp):\n",
    "    gdcm2 = itk.GDCMImageIO.New()\n",
    "\n",
    "    rescaler = itk.RescaleIntensityImageFilter[itk.Image[itk.F,3], itk.Image[itk.F,3]].New(Input=img, OutputMinimum=0, OutputMaximum=itk.NumericTraits.US.max())\n",
    "    caster = itk.CastImageFilter[itk.Image[itk.F,3], itk.Image[itk.US, 3]].New(Input=rescaler.GetOutput())\n",
    "    caster.Update()\n",
    "    img_intercept = -rescaler.GetShift()\n",
    "    img_scale = rescaler.GetScale()\n",
    "    print('intercept(shift): {}, scale: {}'.format(img_intercept, img_scale))\n",
    "\n",
    "    npimg = itk.array_from_image(img)\n",
    "    print('img min: {}, img max: {}'.format(np.min(npimg), np.max(npimg)))\n",
    "    intercept_tag = '0028|1052'\n",
    "    scale_tag = '0028|1053'\n",
    "\n",
    "    # consider also bits allocated, bits stored, pixel representation, sample per pixel\n",
    "    meta = gdcm2.GetMetaDataDictionary()\n",
    "    meta.Set(intercept_tag, itk.MetaDataObject[str].New(MetaDataObjectValue=str(img_intercept)))\n",
    "    meta.Set(scale_tag, itk.MetaDataObject[str].New(MetaDataObjectValue=str(img_scale)))\n",
    "\n",
    "    writer = itk.ImageSeriesWriter[itk.Image[itk.US,3],itk.Image[itk.US,3]].New(ImageIO=gdcm2, FileName=fp, Input=caster)\n",
    "    writer.Update()\n",
    "    \n",
    "float_image_to_dicom(img, './tmp.dcm')"
   ]
  },
  {
   "cell_type": "code",
   "execution_count": 34,
   "metadata": {},
   "outputs": [
    {
     "name": "stdout",
     "output_type": "stream",
     "text": [
      "Image (000001FEF4E6A120)\n",
      "  RTTI typeinfo:   class itk::Image<double,3>\n",
      "  Reference Count: 1\n",
      "  Modified Time: 4523\n",
      "  Debug: Off\n",
      "  Object Name: \n",
      "  Observers: \n",
      "    none\n",
      "  Source: (none)\n",
      "  Source output name: (none)\n",
      "  Release Data: Off\n",
      "  Data Released: False\n",
      "  Global Release Data: Off\n",
      "  PipelineMTime: 4343\n",
      "  UpdateMTime: 4522\n",
      "  RealTimeStamp: 0 seconds \n",
      "  LargestPossibleRegion: \n",
      "    Dimension: 3\n",
      "    Index: [0, 0, 0]\n",
      "    Size: [512, 512, 55]\n",
      "  BufferedRegion: \n",
      "    Dimension: 3\n",
      "    Index: [0, 0, 0]\n",
      "    Size: [512, 512, 55]\n",
      "  RequestedRegion: \n",
      "    Dimension: 3\n",
      "    Index: [0, 0, 0]\n",
      "    Size: [512, 512, 55]\n",
      "  Spacing: [0.976562, 0.976562, 5]\n",
      "  Origin: [499.023, 499.023, 0]\n",
      "  Direction: \n",
      "-1 0 0\n",
      "0 -1 0\n",
      "0 0 1\n",
      "\n",
      "  IndexToPointMatrix: \n",
      "-0.976562 0 0\n",
      "0 -0.976562 0\n",
      "0 0 5\n",
      "\n",
      "  PointToIndexMatrix: \n",
      "-1.024 0 0\n",
      "0 -1.024 0\n",
      "0 0 0.2\n",
      "\n",
      "  Inverse Direction: \n",
      "-1 0 0\n",
      "0 -1 0\n",
      "0 0 1\n",
      "\n",
      "  PixelContainer: \n",
      "    ImportImageContainer (000001FEFA9BD5F0)\n",
      "      RTTI typeinfo:   class itk::ImportImageContainer<unsigned __int64,double>\n",
      "      Reference Count: 1\n",
      "      Modified Time: 4519\n",
      "      Debug: Off\n",
      "      Object Name: \n",
      "      Observers: \n",
      "        none\n",
      "      Pointer: 000001FE92F09040\n",
      "      Container manages memory: true\n",
      "      Size: 14417920\n",
      "      Capacity: 14417920\n",
      "\n",
      "img2 min: 0.0, max: 65535.0\n"
     ]
    }
   ],
   "source": [
    "img2 = itk.imread('./tmp.dcm')\n",
    "#img2 = itk.imread('./tmp.dcm', pixel_type=itk.US)\n",
    "print(img2)\n",
    "\n",
    "minmax = itk.MinimumMaximumImageCalculator[itk.Image[itk.D, 3]].New(Image=img2)\n",
    "minmax.Compute()\n",
    "print('img2 min: {}, max: {}'.format(minmax.GetMinimum(), minmax.GetMaximum()))"
   ]
  },
  {
   "cell_type": "code",
   "execution_count": 35,
   "metadata": {},
   "outputs": [
    {
     "data": {
      "text/plain": [
       "{'0008|0016': '1.2.840.10008.5.1.4.1.1.7.3',\n",
       " '0008|0018': '1.2.826.0.1.3680043.2.1125.1.44133476712029325138405945436658329',\n",
       " '0008|0020': '20210217',\n",
       " '0008|0030': '144949.334603 ',\n",
       " '0008|0050': '',\n",
       " '0008|0060': 'OT',\n",
       " '0008|0090': '',\n",
       " '0010|0010': '',\n",
       " '0010|0020': '',\n",
       " '0010|0030': '',\n",
       " '0010|0040': '',\n",
       " '0020|000d': '1.2.826.0.1.3680043.2.1125.1.16850624303170220119321237213959627',\n",
       " '0020|000e': '1.2.826.0.1.3680043.2.1125.1.65807568054882542831771648579086647',\n",
       " '0020|0010': '',\n",
       " '0020|0011': '',\n",
       " '0020|0013': '',\n",
       " '0020|0052': '1.2.826.0.1.3680043.2.1125.1.35654883809507999255362117304536284',\n",
       " '0028|0002': '1',\n",
       " '0028|0004': 'MONOCHROME2 ',\n",
       " '0028|0008': '55',\n",
       " '0028|0009': '(5200,9230)',\n",
       " '0028|0010': '512',\n",
       " '0028|0011': '512',\n",
       " '0028|0100': '16',\n",
       " '0028|0101': '16',\n",
       " '0028|0102': '15',\n",
       " '0028|0103': '0',\n",
       " '0028|1052': '-16383.75 ',\n",
       " '0028|1053': '15.999755859375 ',\n",
       " '0028|1054': 'US',\n",
       " 'origin': array([  0.        , 499.02319336, 499.02319336]),\n",
       " 'spacing': array([5.        , 0.97656202, 0.97656202]),\n",
       " 'direction': array([[ 1.,  0.,  0.],\n",
       "        [ 0., -1.,  0.],\n",
       "        [ 0.,  0., -1.]])}"
      ]
     },
     "execution_count": 35,
     "metadata": {},
     "output_type": "execute_result"
    }
   ],
   "source": [
    "dict(img2)"
   ]
  },
  {
   "cell_type": "code",
   "execution_count": 1,
   "metadata": {},
   "outputs": [
    {
     "ename": "NameError",
     "evalue": "name 'itk' is not defined",
     "output_type": "error",
     "traceback": [
      "\u001b[1;31m---------------------------------------------------------------------------\u001b[0m",
      "\u001b[1;31mNameError\u001b[0m                                 Traceback (most recent call last)",
      "\u001b[1;32m<ipython-input-1-aa51ab6f9c27>\u001b[0m in \u001b[0;36m<module>\u001b[1;34m\u001b[0m\n\u001b[0;32m      1\u001b[0m \u001b[0mdummy_names\u001b[0m \u001b[1;33m=\u001b[0m \u001b[1;33m[\u001b[0m\u001b[1;34m'Joe'\u001b[0m\u001b[1;33m,\u001b[0m \u001b[1;34m'Johnny'\u001b[0m\u001b[1;33m,\u001b[0m \u001b[1;34m'Jack'\u001b[0m\u001b[1;33m,\u001b[0m \u001b[1;34m'Jen'\u001b[0m\u001b[1;33m,\u001b[0m \u001b[1;34m'Jill'\u001b[0m\u001b[1;33m]\u001b[0m\u001b[1;33m\u001b[0m\u001b[1;33m\u001b[0m\u001b[0m\n\u001b[1;32m----> 2\u001b[1;33m \u001b[0mdicomIO\u001b[0m \u001b[1;33m=\u001b[0m \u001b[0mitk\u001b[0m\u001b[1;33m.\u001b[0m\u001b[0mGDCMImageIO\u001b[0m\u001b[1;33m.\u001b[0m\u001b[0mNew\u001b[0m\u001b[1;33m(\u001b[0m\u001b[1;33m)\u001b[0m\u001b[1;33m\u001b[0m\u001b[1;33m\u001b[0m\u001b[0m\n\u001b[0m\u001b[0;32m      3\u001b[0m \u001b[0mdicomIO\u001b[0m \u001b[1;33m=\u001b[0m \u001b[0mitk\u001b[0m\u001b[1;33m.\u001b[0m\u001b[0mGDCMImageIO\u001b[0m\u001b[1;33m.\u001b[0m\u001b[0mNew\u001b[0m\u001b[1;33m(\u001b[0m\u001b[1;33m)\u001b[0m\u001b[1;33m\u001b[0m\u001b[1;33m\u001b[0m\u001b[0m\n\u001b[0;32m      4\u001b[0m \u001b[0mreader\u001b[0m \u001b[1;33m=\u001b[0m \u001b[0mitk\u001b[0m\u001b[1;33m.\u001b[0m\u001b[0mImageSeriesReader\u001b[0m\u001b[1;33m[\u001b[0m\u001b[0mitk\u001b[0m\u001b[1;33m.\u001b[0m\u001b[0mImage\u001b[0m\u001b[1;33m[\u001b[0m\u001b[0mitk\u001b[0m\u001b[1;33m.\u001b[0m\u001b[0mF\u001b[0m\u001b[1;33m,\u001b[0m\u001b[1;36m3\u001b[0m\u001b[1;33m]\u001b[0m\u001b[1;33m]\u001b[0m\u001b[1;33m.\u001b[0m\u001b[0mNew\u001b[0m\u001b[1;33m(\u001b[0m\u001b[0mFileName\u001b[0m\u001b[1;33m=\u001b[0m\u001b[1;34m'./data/case1_068.dcm'\u001b[0m\u001b[1;33m)\u001b[0m\u001b[1;33m\u001b[0m\u001b[1;33m\u001b[0m\u001b[0m\n\u001b[0;32m      5\u001b[0m \u001b[0mreader\u001b[0m\u001b[1;33m.\u001b[0m\u001b[0mSetImageIO\u001b[0m\u001b[1;33m(\u001b[0m\u001b[0mdicomIO\u001b[0m\u001b[1;33m)\u001b[0m\u001b[1;33m\u001b[0m\u001b[1;33m\u001b[0m\u001b[0m\n",
      "\u001b[1;31mNameError\u001b[0m: name 'itk' is not defined"
     ]
    }
   ],
   "source": [
    "\n",
    "dummy_names = ['Joe', 'Johnny', 'Jack', 'Jen', 'Jill']\n",
    "dicomIO = itk.GDCMImageIO.New()\n",
    "dicomIO = itk.GDCMImageIO.New()\n",
    "reader = itk.ImageSeriesReader[itk.Image[itk.F,3]].New(FileName='./data/case1_068.dcm')\n",
    "reader.SetImageIO(dicomIO)\n",
    "reader.ForceOrthogonalDirectionOff()\n",
    "reader.Update()\n"
   ]
  },
  {
   "cell_type": "code",
   "execution_count": 33,
   "metadata": {},
   "outputs": [
    {
     "data": {
      "text/plain": [
       "Dataset.file_meta -------------------------------\n",
       "(0002, 0000) File Meta Information Group Length  UL: 198\n",
       "(0002, 0001) File Meta Information Version       OB: b'\\x00\\x01'\n",
       "(0002, 0002) Media Storage SOP Class UID         UI: MR Image Storage\n",
       "(0002, 0003) Media Storage SOP Instance UID      UI: 1.3.46.670589.11.0.0.11.4.2.0.5526.5.2220.2004042613240932485\n",
       "(0002, 0010) Transfer Syntax UID                 UI: Implicit VR Little Endian\n",
       "(0002, 0012) Implementation Class UID            UI: 1.2.276.0.50.20060201.4.1\n",
       "(0002, 0013) Implementation Version Name         SH: 'JIVEX_TK_41'\n",
       "-------------------------------------------------\n",
       "(0008, 0005) Specific Character Set              CS: 'ISO_IR 100'\n",
       "(0008, 0008) Image Type                          CS: ['ORIGINAL', 'PRIMARY', 'M_FFE', 'M', 'FFE']\n",
       "(0008, 0012) Instance Creation Date              DA: '20040426'\n",
       "(0008, 0013) Instance Creation Time              TM: '132601'\n",
       "(0008, 0014) Instance Creator UID                UI: 1.3.46.670589.11.5526.5\n",
       "(0008, 0016) SOP Class UID                       UI: MR Image Storage\n",
       "(0008, 0018) SOP Instance UID                    UI: 1.2.276.0.50.192168001099.7810872.14547392.527\n",
       "(0008, 0020) Study Date                          DA: '20010101'\n",
       "(0008, 0021) Series Date                         DA: '20070511'\n",
       "(0008, 0023) Content Date                        DA: '20070511'\n",
       "(0008, 0030) Study Time                          TM: '113402'\n",
       "(0008, 0031) Series Time                         TM: '113402'\n",
       "(0008, 0033) Content Time                        TM: '113402'\n",
       "(0008, 0050) Accession Number                    SH: '11788759296818'\n",
       "(0008, 0060) Modality                            CS: 'MR'\n",
       "(0008, 0070) Manufacturer                        LO: 'Philips Medical Systems'\n",
       "(0008, 0080) Institution Name                    LO: 'Anonymized Hospital'\n",
       "(0008, 0081) Institution Address                 ST: 'Anonymized Address'\n",
       "(0008, 0090) Referring Physician's Name          PN: 'Dr. Anonymous'\n",
       "(0008, 1010) Station Name                        SH: 'Any Station'\n",
       "(0008, 1030) Study Description                   LO: 'MRT Sakroiliakalgelenke'\n",
       "(0008, 103e) Series Description                  LO: 'Rheuma     *ISG/THRI/KM'\n",
       "(0008, 1040) Institutional Department Name       LO: ''\n",
       "(0008, 1080) Admitting Diagnoses Description     LO: ''\n",
       "(0008, 1090) Manufacturer's Model Name           LO: 'Intera'\n",
       "(0008, 1111)  Referenced Performed Procedure Step Sequence  1 item(s) ---- \n",
       "   (0008, 0005) Specific Character Set              CS: 'ISO_IR 100'\n",
       "   (0008, 0012) Instance Creation Date              DA: '20040426'\n",
       "   (0008, 0013) Instance Creation Time              TM: '132602'\n",
       "   (0008, 0014) Instance Creator UID                UI: 1.3.46.670589.11.5526.5\n",
       "   (0008, 1150) Referenced SOP Class UID            UI: Modality Performed Procedure Step SOP Class\n",
       "   (0008, 1155) Referenced SOP Instance UID         UI: 1.3.46.670589.11.0.0.11.4.2.0.5526.5.3580.2004042612422029238\n",
       "   (0020, 0013) Instance Number                     IS: \"0\"\n",
       "   ---------\n",
       "(0008, 1140)  Referenced Image Sequence  3 item(s) ---- \n",
       "   (0008, 1150) Referenced SOP Class UID            UI: MR Image Storage\n",
       "   (0008, 1155) Referenced SOP Instance UID         UI: 1.3.46.670589.11.0.0.11.4.2.0.5526.5.2220.2004042612433728204\n",
       "   ---------\n",
       "   (0008, 1150) Referenced SOP Class UID            UI: MR Image Storage\n",
       "   (0008, 1155) Referenced SOP Instance UID         UI: 1.3.46.670589.11.0.0.11.4.2.0.5526.5.2220.2004042612433654194\n",
       "   ---------\n",
       "   (0008, 1150) Referenced SOP Class UID            UI: MR Image Storage\n",
       "   (0008, 1155) Referenced SOP Instance UID         UI: 1.3.46.670589.11.0.0.11.4.2.0.5526.5.2220.2004042612433692199\n",
       "   ---------\n",
       "(0010, 0010) Patient's Name                      PN: 'Fall 1'\n",
       "(0010, 0020) Patient ID                          LO: '11788759296811'\n",
       "(0010, 0030) Patient's Birth Date                DA: '19000101'\n",
       "(0010, 0032) Patient's Birth Time                TM: '0000'\n",
       "(0010, 0040) Patient's Sex                       CS: 'O'\n",
       "(0010, 1030) Patient's Weight                    DS: \"88.0\"\n",
       "(0010, 2000) Medical Alerts                      LO: ''\n",
       "(0010, 2110) Allergies                           LO: ''\n",
       "(0010, 2160) Ethnic Group                        SH: ''\n",
       "(0010, 2180) Occupation                          SH: ''\n",
       "(0010, 21b0) Additional Patient History          LT: ''\n",
       "(0010, 21c0) Pregnancy Status                    US: 4\n",
       "(0010, 4000) Patient Comments                    LT: ''\n",
       "(0018, 0020) Scanning Sequence                   CS: 'GR'\n",
       "(0018, 0021) Sequence Variant                    CS: 'SP'\n",
       "(0018, 0022) Scan Options                        CS: 'FS'\n",
       "(0018, 0023) MR Acquisition Type                 CS: ''\n",
       "(0018, 0024) Sequence Name                       SH: ''\n",
       "(0018, 0050) Slice Thickness                     DS: \"2.0\"\n",
       "(0018, 0080) Repetition Time                     DS: \"7.73110008239746\"\n",
       "(0018, 0081) Echo Time                           DS: \"3.70510005950927\"\n",
       "(0018, 0082) Inversion Time                      DS: \"0.0\"\n",
       "(0018, 0083) Number of Averages                  DS: \"3.0\"\n",
       "(0018, 0084) Imaging Frequency                   DS: \"63.8923629999999\"\n",
       "(0018, 0085) Imaged Nucleus                      SH: '1H'\n",
       "(0018, 0086) Echo Number(s)                      IS: \"1\"\n",
       "(0018, 0087) Magnetic Field Strength             DS: \"1.5\"\n",
       "(0018, 0088) Spacing Between Slices              DS: \"1.0\"\n",
       "(0018, 0089) Number of Phase Encoding Steps      IS: \"368\"\n",
       "(0018, 0091) Echo Train Length                   IS: \"20\"\n",
       "(0018, 0093) Percent Sampling                    DS: \"80.0\"\n",
       "(0018, 0094) Percent Phase Field of View         DS: \"80.4347839355468\"\n",
       "(0018, 1000) Device Serial Number                LO: '05526'\n",
       "(0018, 1020) Software Versions                   LO: ['NT 10.3.1', 'PIIM V2.1.4.1 MIMIT MCS']\n",
       "(0018, 1030) Protocol Name                       LO: '*ISG/THRI/KM'\n",
       "(0018, 1081) Low R-R Value                       IS: \"0\"\n",
       "(0018, 1082) High R-R Value                      IS: \"0\"\n",
       "(0018, 1083) Intervals Acquired                  IS: \"0\"\n",
       "(0018, 1084) Intervals Rejected                  IS: \"0\"\n",
       "(0018, 1088) Heart Rate                          IS: \"0\"\n",
       "(0018, 1100) Reconstruction Diameter             DS: \"375.0\"\n",
       "(0018, 1250) Receive Coil Name                   SH: 'SENSE-body'\n",
       "(0018, 1251) Transmit Coil Name                  SH: 'B'\n",
       "(0018, 1310) Acquisition Matrix                  US: [368, 0, 0, 368]\n",
       "(0018, 1312) In-plane Phase Encoding Direction   CS: 'COL'\n",
       "(0018, 1314) Flip Angle                          DS: \"10.0\"\n",
       "(0018, 5100) Patient Position                    CS: 'HFS'\n",
       "(0020, 000d) Study Instance UID                  UI: 1.2.276.0.50.192168001099.7810872.14547392.270\n",
       "(0020, 000e) Series Instance UID                 UI: 1.2.276.0.50.192168001099.7810872.14547392.458\n",
       "(0020, 0010) Study ID                            SH: '11788759296812'\n",
       "(0020, 0011) Series Number                       IS: \"601\"\n",
       "(0020, 0012) Acquisition Number                  IS: \"6\"\n",
       "(0020, 0013) Instance Number                     IS: \"69\"\n",
       "(0020, 0032) Image Position (Patient)            DS: [-177.71115303039, -57.827019266806, 185.986785044943]\n",
       "(0020, 0037) Image Orientation (Patient)         DS: [1.0, 0.0, 0.0, 0.0, 0.71103039832921, -0.7031612707279]\n",
       "(0020, 0052) Frame of Reference UID              UI: 1.3.46.670589.11.0.0.11.4.2.0.5526.5.4584.2004042612425903415\n",
       "(0020, 0060) Laterality                          CS: ''\n",
       "(0020, 0100) Temporal Position Identifier        IS: \"1\"\n",
       "(0020, 0105) Number of Temporal Positions        IS: \"1\"\n",
       "(0020, 1040) Position Reference Indicator        LO: ''\n",
       "(0020, 1041) Slice Location                      DS: \"67.9999789003008\"\n",
       "(0020, 4000) Image Comments                      LT: ''\n",
       "(0028, 0002) Samples per Pixel                   US: 1\n",
       "(0028, 0004) Photometric Interpretation          CS: 'MONOCHROME2'\n",
       "(0028, 0010) Rows                                US: 512\n",
       "(0028, 0011) Columns                             US: 512\n",
       "(0028, 0030) Pixel Spacing                       DS: [0.732421875, 0.732421875]\n",
       "(0028, 0034) Pixel Aspect Ratio                  IS: [1, 1]\n",
       "(0028, 0100) Bits Allocated                      US: 16\n",
       "(0028, 0101) Bits Stored                         US: 12\n",
       "(0028, 0102) High Bit                            US: 11\n",
       "(0028, 0103) Pixel Representation                US: 0\n",
       "(0028, 0106) Smallest Image Pixel Value          US: 0\n",
       "(0028, 0107) Largest Image Pixel Value           US: 1879\n",
       "(0028, 1050) Window Center                       DS: \"729.0\"\n",
       "(0028, 1051) Window Width                        DS: \"1457.0\"\n",
       "(0028, 1052) Rescale Intercept                   DS: \"0.0\"\n",
       "(0028, 1053) Rescale Slope                       DS: \"1.54163614163614\"\n",
       "(0028, 1054) Rescale Type                        LO: 'normalized'\n",
       "(0028, 2110) Lossy Image Compression             CS: '00'\n",
       "(0032, 1032) Requesting Physician                PN: 'RequestingPhysician'\n",
       "(0032, 1033) Requesting Service                  LO: 'RequestingService'\n",
       "(0032, 1060) Requested Procedure Description     LO: 'MRT Sakroiliakalgelenke'\n",
       "(0032, 1070) Requested Contrast Agent            LO: ''\n",
       "(0032, 4000) Study Comments                      LT: 'MRT Sakroiliakalgelenke'\n",
       "(0038, 0050) Special Needs                       LO: ''\n",
       "(0038, 0500) Patient State                       LO: ''\n",
       "(0040, 0241) Performed Station AE Title          AE: 'MR_STORE_EXP'\n",
       "(0040, 0242) Performed Station Name              SH: ''\n",
       "(0040, 0243) Performed Location                  SH: ''\n",
       "(0040, 0244) Performed Procedure Step Start Date DA: '20040426'\n",
       "(0040, 0245) Performed Procedure Step Start Time TM: '124231'\n",
       "(0040, 0250) Performed Procedure Step End Date   DA: '20040426'\n",
       "(0040, 0251) Performed Procedure Step End Time   TM: '124231'\n",
       "(0040, 0252) Performed Procedure Step Status     CS: ''\n",
       "(0040, 0253) Performed Procedure Step ID         SH: '136298540'\n",
       "(0040, 0254) Performed Procedure Step Descriptio LO: 'MRT Sakroiliakalgelenke'\n",
       "(0040, 0255) Performed Procedure Type Descriptio LO: ''\n",
       "(0040, 0275)  Request Attributes Sequence  1 item(s) ---- \n",
       "   (0040, 0007) Scheduled Procedure Step Descriptio LO: 'MRT Sakroiliakalgelenke'\n",
       "   (0040, 0008)  Scheduled Protocol Code Sequence  0 item(s) ---- \n",
       "   (0040, 0009) Scheduled Procedure Step ID         SH: '0000154779'\n",
       "   (0040, 1001) Requested Procedure ID              SH: '0000154779'\n",
       "   (2005, 0012) Private Creator                     LO: 'Philips MR Imaging DD 003'\n",
       "   (2005, 1213) [Unknown]                           UN: b'\\x00\\x00\\x00\\x00'\n",
       "   ---------\n",
       "(0040, 0280) Comments on the Performed Procedure ST: 'MRT Sakroiliakalgelenke'\n",
       "(0040, 0321)  Film Consumption Sequence  0 item(s) ---- \n",
       "(0040, 1001) Requested Procedure ID              SH: '0000154779'\n",
       "(0040, 1002) Reason for the Requested Procedure  LO: ''\n",
       "(0040, 1003) Requested Procedure Priority        SH: ''\n",
       "(0040, 1004) Patient Transport Arrangements      LO: ''\n",
       "(0040, 1005) Requested Procedure Location        LO: ''\n",
       "(0040, 1010) Names of Intended Recipients of Res PN: ''\n",
       "(0040, 1400) Requested Procedure Comments        LT: ''\n",
       "(0040, 2001) Reason for the Imaging Service Requ LO: ''\n",
       "(0040, 2004) Issue Date of Imaging Service Reque DA: ''\n",
       "(0040, 2005) Issue Time of Imaging Service Reque TM: ''\n",
       "(0040, 2006) Placer Order Number / Imaging Servi SH: ''\n",
       "(0040, 2007) Filler Order Number / Imaging Servi SH: ''\n",
       "(0040, 2008) Order Entered By                    PN: ''\n",
       "(0040, 2009) Order Enterer's Location            SH: ''\n",
       "(0040, 2010) Order Callback Phone Number         SH: ''\n",
       "(0040, 2400) Imaging Service Request Comments    LT: ''\n",
       "(2001, 1003) Private tag data                    UN: b'\\x00\\x00\\x00\\x00'\n",
       "(2001, 100a) Private tag data                    UN: b'69'\n",
       "(7fe0, 0010) Pixel Data                          OW: Array of 524288 elements"
      ]
     },
     "execution_count": 33,
     "metadata": {},
     "output_type": "execute_result"
    }
   ],
   "source": [
    "import pydicom\n",
    "#! pip install pydicom\n",
    "pydicom.read_file('./data/case1_068.dcm')"
   ]
  },
  {
   "cell_type": "code",
   "execution_count": 34,
   "metadata": {},
   "outputs": [
    {
     "name": "stdout",
     "output_type": "stream",
     "text": [
      "<itk.ITKCommonBasePython.vectoritkMetaDataDictionary; proxy of <Swig Object of type 'std::vector< itkMetaDataDictionary * > *' at 0x0000026C0A8BDEA0> >\n",
      "Image (0000026C069C5D20)\n",
      "  RTTI typeinfo:   class itk::Image<float,3>\n",
      "  Reference Count: 3\n",
      "  Modified Time: 1071\n",
      "  Debug: Off\n",
      "  Object Name: \n",
      "  Observers: \n",
      "    none\n",
      "  Source: (0000026BFEDD0830) \n",
      "  Source output name: Primary\n",
      "  Release Data: Off\n",
      "  Data Released: False\n",
      "  Global Release Data: Off\n",
      "  PipelineMTime: 984\n",
      "  UpdateMTime: 1072\n",
      "  RealTimeStamp: 0 seconds \n",
      "  LargestPossibleRegion: \n",
      "    Dimension: 3\n",
      "    Index: [0, 0, 0]\n",
      "    Size: [512, 512, 1]\n",
      "  BufferedRegion: \n",
      "    Dimension: 3\n",
      "    Index: [0, 0, 0]\n",
      "    Size: [512, 512, 1]\n",
      "  RequestedRegion: \n",
      "    Dimension: 3\n",
      "    Index: [0, 0, 0]\n",
      "    Size: [512, 512, 1]\n",
      "  Spacing: [0.732422, 0.732422, 1]\n",
      "  Origin: [-177.711, -57.827, 185.987]\n",
      "  Direction: \n",
      "1 0 0\n",
      "0 0.71103 0.703161\n",
      "0 -0.703161 0.71103\n",
      "\n",
      "  IndexToPointMatrix: \n",
      "0.732422 0 0\n",
      "0 0.520774 0.703161\n",
      "0 -0.515011 0.71103\n",
      "\n",
      "  PointToIndexMatrix: \n",
      "1.36533 0 0\n",
      "0 0.970794 -0.96005\n",
      "0 0.703161 0.71103\n",
      "\n",
      "  Inverse Direction: \n",
      "1 0 0\n",
      "0 0.71103 -0.703161\n",
      "0 0.703161 0.71103\n",
      "\n",
      "  PixelContainer: \n",
      "    ImportImageContainer (0000026C06FAB7F0)\n",
      "      RTTI typeinfo:   class itk::ImportImageContainer<unsigned __int64,float>\n",
      "      Reference Count: 1\n",
      "      Modified Time: 1038\n",
      "      Debug: Off\n",
      "      Object Name: \n",
      "      Observers: \n",
      "        none\n",
      "      Pointer: 0000026C0B6BD040\n",
      "      Container manages memory: true\n",
      "      Size: 262144\n",
      "      Capacity: 262144\n",
      "\n",
      "Dictionary use_count: 1\n",
      "\n"
     ]
    }
   ],
   "source": [
    "img3 = reader.GetOutput()\n",
    "print(reader.GetMetaDataDictionaryArray())\n",
    "print(img3)\n",
    "print(img3.GetMetaDataDictionary())"
   ]
  },
  {
   "cell_type": "code",
   "execution_count": 39,
   "metadata": {},
   "outputs": [],
   "source": [
    "arr = reader.GetMetaDataDictionaryArray()\n",
    "m = arr[0]"
   ]
  },
  {
   "cell_type": "code",
   "execution_count": 51,
   "metadata": {},
   "outputs": [
    {
     "data": {
      "text/plain": [
       "'ISO_IR 100'"
      ]
     },
     "execution_count": 51,
     "metadata": {},
     "output_type": "execute_result"
    }
   ],
   "source": [
    "t = m[m.GetKeys()[0]]\n",
    "t"
   ]
  },
  {
   "cell_type": "code",
   "execution_count": 53,
   "metadata": {},
   "outputs": [
    {
     "name": "stdout",
     "output_type": "stream",
     "text": [
      "0008|0005 ISO_IR 100\n",
      "0008|0008 ORIGINAL\\PRIMARY\\M_FFE\\M\\FFE\n",
      "0008|0012 20040426\n",
      "0008|0013 132601\n",
      "0008|0014 1.3.46.670589.11.5526.5\n",
      "0008|0016 1.2.840.10008.5.1.4.1.1.4\n",
      "0008|0018 1.2.276.0.50.192168001099.7810872.14547392.527\n",
      "0008|0020 20010101\n",
      "0008|0021 20070511\n",
      "0008|0023 20070511\n",
      "0008|0030 113402\n",
      "0008|0031 113402\n",
      "0008|0033 113402\n",
      "0008|0050 11788759296818\n",
      "0008|0060 MR\n",
      "0008|0070 Philips Medical Systems \n",
      "0008|0080 Anonymized Hospital \n",
      "0008|0081 Anonymized Address\n",
      "0008|0090 Dr. Anonymous \n",
      "0008|1010 Any Station \n",
      "0008|1030 MRT Sakroiliakalgelenke \n",
      "0008|103e Rheuma     *ISG/THRI/KM \n",
      "0008|1040 \n",
      "0008|1080 \n",
      "0008|1090 Intera\n",
      "0010|0010 Fall 1\n",
      "0010|0020 11788759296811\n",
      "0010|0030 19000101\n",
      "0010|0032 0000\n",
      "0010|0040 O \n",
      "0010|1030 88.0\n",
      "0010|2000 \n",
      "0010|2110 \n",
      "0010|2160 \n",
      "0010|2180 \n",
      "0010|21b0 \n",
      "0010|21c0 4\n",
      "0010|4000 \n",
      "0018|0020 GR\n",
      "0018|0021 SP\n",
      "0018|0022 FS\n",
      "0018|0023 \n",
      "0018|0024 \n",
      "0018|0050 2.0 \n",
      "0018|0080 7.73110008239746\n",
      "0018|0081 3.70510005950927\n",
      "0018|0082 0.0 \n",
      "0018|0083 3.0 \n",
      "0018|0084 63.8923629999999\n",
      "0018|0085 1H\n",
      "0018|0086 1 \n",
      "0018|0087 1.5 \n",
      "0018|0088 1.0 \n",
      "0018|0089 368 \n",
      "0018|0091 20\n",
      "0018|0093 80.0\n",
      "0018|0094 80.4347839355468\n",
      "0018|1000 05526 \n",
      "0018|1020 NT 10.3.1\\PIIM V2.1.4.1 MIMIT MCS \n",
      "0018|1030 *ISG/THRI/KM\n",
      "0018|1081 0 \n",
      "0018|1082 0 \n",
      "0018|1083 0 \n",
      "0018|1084 0 \n",
      "0018|1088 0 \n",
      "0018|1100 375.0 \n",
      "0018|1250 SENSE-body\n",
      "0018|1251 B \n",
      "0018|1310 368\\0\\0\\368\n",
      "0018|1312 COL \n",
      "0018|1314 10.0\n",
      "0018|5100 HFS \n",
      "0020|000d 1.2.276.0.50.192168001099.7810872.14547392.270\n",
      "0020|000e 1.2.276.0.50.192168001099.7810872.14547392.458\n",
      "0020|0010 11788759296812\n",
      "0020|0011 601 \n",
      "0020|0012 6 \n",
      "0020|0013 69\n",
      "0020|0032 -177.71115303039\\-57.827019266806\\185.986785044943\n",
      "0020|0037 1.0\\0.0\\0.0\\0.0\\0.71103039832921\\-0.7031612707279 \n",
      "0020|0052 1.3.46.670589.11.0.0.11.4.2.0.5526.5.4584.2004042612425903415\n",
      "0020|0060 \n",
      "0020|0100 1 \n",
      "0020|0105 1 \n",
      "0020|1040 \n",
      "0020|1041 67.9999789003008\n",
      "0020|4000 \n",
      "0028|0002 1\n",
      "0028|0004 MONOCHROME2 \n",
      "0028|0010 512\n",
      "0028|0011 512\n",
      "0028|0030 0.732421875\\0.732421875 \n",
      "0028|0034 1\\1 \n",
      "0028|0100 16\n",
      "0028|0101 12\n",
      "0028|0102 11\n",
      "0028|0103 0\n",
      "0028|0106 0\n",
      "0028|0107 1879\n",
      "0028|1050 729.0 \n",
      "0028|1051 1457.0\n",
      "0028|1052 0.0 \n",
      "0028|1053 1.54163614163614\n",
      "0028|1054 normalized\n",
      "0028|2110 00\n",
      "0032|1032 RequestingPhysician \n",
      "0032|1033 RequestingService \n",
      "0032|1060 MRT Sakroiliakalgelenke \n",
      "0032|1070 \n",
      "0032|4000 MRT Sakroiliakalgelenke \n",
      "0038|0050 \n",
      "0038|0500 \n",
      "0040|0241 MR_STORE_EXP\n",
      "0040|0242 \n",
      "0040|0243 \n",
      "0040|0244 20040426\n",
      "0040|0245 124231\n",
      "0040|0250 20040426\n",
      "0040|0251 124231\n",
      "0040|0252 \n",
      "0040|0253 136298540 \n",
      "0040|0254 MRT Sakroiliakalgelenke \n",
      "0040|0255 \n",
      "0040|0280 MRT Sakroiliakalgelenke \n",
      "0040|1001 0000154779\n",
      "0040|1002 \n",
      "0040|1003 \n",
      "0040|1004 \n",
      "0040|1005 \n",
      "0040|1010 \n",
      "0040|1400 \n",
      "0040|2001 \n",
      "0040|2004 \n",
      "0040|2005 \n",
      "0040|2006 \n",
      "0040|2007 \n",
      "0040|2008 \n",
      "0040|2009 \n",
      "0040|2010 \n",
      "0040|2400 \n"
     ]
    },
    {
     "ename": "RuntimeError",
     "evalue": "Can't downcast to a specialization of MetaDataObject",
     "output_type": "error",
     "traceback": [
      "\u001b[1;31m---------------------------------------------------------------------------\u001b[0m",
      "\u001b[1;31mRuntimeError\u001b[0m                              Traceback (most recent call last)",
      "\u001b[1;32m<ipython-input-53-b1cd516db0f2>\u001b[0m in \u001b[0;36m<module>\u001b[1;34m\u001b[0m\n\u001b[0;32m      1\u001b[0m \u001b[1;32mfor\u001b[0m \u001b[0mk\u001b[0m \u001b[1;32min\u001b[0m \u001b[0mm\u001b[0m\u001b[1;33m.\u001b[0m\u001b[0mGetKeys\u001b[0m\u001b[1;33m(\u001b[0m\u001b[1;33m)\u001b[0m\u001b[1;33m:\u001b[0m\u001b[1;33m\u001b[0m\u001b[1;33m\u001b[0m\u001b[0m\n\u001b[1;32m----> 2\u001b[1;33m     \u001b[0mprint\u001b[0m\u001b[1;33m(\u001b[0m\u001b[0mk\u001b[0m\u001b[1;33m,\u001b[0m \u001b[0mm\u001b[0m\u001b[1;33m[\u001b[0m\u001b[0mk\u001b[0m\u001b[1;33m]\u001b[0m\u001b[1;33m)\u001b[0m\u001b[1;33m\u001b[0m\u001b[1;33m\u001b[0m\u001b[0m\n\u001b[0m",
      "\u001b[1;32mc:\\src\\venv-3.7.6-prebuilt\\lib\\site-packages\\itk\\ITKCommonBasePython.py\u001b[0m in \u001b[0;36m__getitem__\u001b[1;34m(self, key)\u001b[0m\n\u001b[0;32m    893\u001b[0m         \u001b[1;32mimport\u001b[0m \u001b[0mitk\u001b[0m\u001b[1;33m\u001b[0m\u001b[1;33m\u001b[0m\u001b[0m\n\u001b[0;32m    894\u001b[0m         \u001b[0mobj\u001b[0m \u001b[1;33m=\u001b[0m \u001b[0mself\u001b[0m\u001b[1;33m.\u001b[0m\u001b[0mGet\u001b[0m\u001b[1;33m(\u001b[0m\u001b[0mkey\u001b[0m\u001b[1;33m)\u001b[0m\u001b[1;33m\u001b[0m\u001b[1;33m\u001b[0m\u001b[0m\n\u001b[1;32m--> 895\u001b[1;33m         \u001b[1;32mreturn\u001b[0m \u001b[0mitk\u001b[0m\u001b[1;33m.\u001b[0m\u001b[0mdown_cast\u001b[0m\u001b[1;33m(\u001b[0m\u001b[0mobj\u001b[0m\u001b[1;33m)\u001b[0m\u001b[1;33m.\u001b[0m\u001b[0mGetMetaDataObjectValue\u001b[0m\u001b[1;33m(\u001b[0m\u001b[1;33m)\u001b[0m\u001b[1;33m\u001b[0m\u001b[1;33m\u001b[0m\u001b[0m\n\u001b[0m\u001b[0;32m    896\u001b[0m     \u001b[1;32mdef\u001b[0m \u001b[0m__len__\u001b[0m\u001b[1;33m(\u001b[0m\u001b[0mself\u001b[0m\u001b[1;33m)\u001b[0m\u001b[1;33m:\u001b[0m\u001b[1;33m\u001b[0m\u001b[1;33m\u001b[0m\u001b[0m\n\u001b[0;32m    897\u001b[0m         \u001b[1;32mreturn\u001b[0m \u001b[0mself\u001b[0m\u001b[1;33m.\u001b[0m\u001b[0mGetKeys\u001b[0m\u001b[1;33m(\u001b[0m\u001b[1;33m)\u001b[0m\u001b[1;33m.\u001b[0m\u001b[0msize\u001b[0m\u001b[1;33m(\u001b[0m\u001b[1;33m)\u001b[0m\u001b[1;33m\u001b[0m\u001b[1;33m\u001b[0m\u001b[0m\n",
      "\u001b[1;32mc:\\src\\venv-3.7.6-prebuilt\\lib\\site-packages\\itkExtras.py\u001b[0m in \u001b[0;36mdown_cast\u001b[1;34m(obj)\u001b[0m\n\u001b[0;32m   1198\u001b[0m         raise RuntimeError(\n\u001b[0;32m   1199\u001b[0m             \u001b[1;34m\"Can't downcast to a specialization of %s\"\u001b[0m \u001b[1;33m%\u001b[0m\u001b[1;33m\u001b[0m\u001b[1;33m\u001b[0m\u001b[0m\n\u001b[1;32m-> 1200\u001b[1;33m             className)\n\u001b[0m\u001b[0;32m   1201\u001b[0m     \u001b[1;32melse\u001b[0m\u001b[1;33m:\u001b[0m\u001b[1;33m\u001b[0m\u001b[1;33m\u001b[0m\u001b[0m\n\u001b[0;32m   1202\u001b[0m         \u001b[1;32mreturn\u001b[0m \u001b[0mt\u001b[0m\u001b[1;33m.\u001b[0m\u001b[0mcast\u001b[0m\u001b[1;33m(\u001b[0m\u001b[0mobj\u001b[0m\u001b[1;33m)\u001b[0m\u001b[1;33m\u001b[0m\u001b[1;33m\u001b[0m\u001b[0m\n",
      "\u001b[1;31mRuntimeError\u001b[0m: Can't downcast to a specialization of MetaDataObject"
     ]
    }
   ],
   "source": [
    "for k in m.GetKeys():\n",
    "    print(k, m[k])"
   ]
  },
  {
   "cell_type": "code",
   "execution_count": 54,
   "metadata": {},
   "outputs": [
    {
     "name": "stdout",
     "output_type": "stream",
     "text": [
      "> \u001b[1;32mc:\\src\\venv-3.7.6-prebuilt\\lib\\site-packages\\itkextras.py\u001b[0m(1200)\u001b[0;36mdown_cast\u001b[1;34m()\u001b[0m\n",
      "\u001b[1;32m   1198 \u001b[1;33m        raise RuntimeError(\n",
      "\u001b[0m\u001b[1;32m   1199 \u001b[1;33m            \u001b[1;34m\"Can't downcast to a specialization of %s\"\u001b[0m \u001b[1;33m%\u001b[0m\u001b[1;33m\u001b[0m\u001b[1;33m\u001b[0m\u001b[0m\n",
      "\u001b[0m\u001b[1;32m-> 1200 \u001b[1;33m            className)\n",
      "\u001b[0m\u001b[1;32m   1201 \u001b[1;33m    \u001b[1;32melse\u001b[0m\u001b[1;33m:\u001b[0m\u001b[1;33m\u001b[0m\u001b[1;33m\u001b[0m\u001b[0m\n",
      "\u001b[0m\u001b[1;32m   1202 \u001b[1;33m        \u001b[1;32mreturn\u001b[0m \u001b[0mt\u001b[0m\u001b[1;33m.\u001b[0m\u001b[0mcast\u001b[0m\u001b[1;33m(\u001b[0m\u001b[0mobj\u001b[0m\u001b[1;33m)\u001b[0m\u001b[1;33m\u001b[0m\u001b[1;33m\u001b[0m\u001b[0m\n",
      "\u001b[0m\n"
     ]
    },
    {
     "name": "stdin",
     "output_type": "stream",
     "text": [
      "ipdb>  k\n"
     ]
    },
    {
     "name": "stdout",
     "output_type": "stream",
     "text": [
      "*** NameError: name 'k' is not defined\n"
     ]
    },
    {
     "name": "stdin",
     "output_type": "stream",
     "text": [
      "ipdb>  u\n"
     ]
    },
    {
     "name": "stdout",
     "output_type": "stream",
     "text": [
      "> \u001b[1;32mc:\\src\\venv-3.7.6-prebuilt\\lib\\site-packages\\itk\\itkcommonbasepython.py\u001b[0m(895)\u001b[0;36m__getitem__\u001b[1;34m()\u001b[0m\n",
      "\u001b[1;32m    893 \u001b[1;33m        \u001b[1;32mimport\u001b[0m \u001b[0mitk\u001b[0m\u001b[1;33m\u001b[0m\u001b[1;33m\u001b[0m\u001b[0m\n",
      "\u001b[0m\u001b[1;32m    894 \u001b[1;33m        \u001b[0mobj\u001b[0m \u001b[1;33m=\u001b[0m \u001b[0mself\u001b[0m\u001b[1;33m.\u001b[0m\u001b[0mGet\u001b[0m\u001b[1;33m(\u001b[0m\u001b[0mkey\u001b[0m\u001b[1;33m)\u001b[0m\u001b[1;33m\u001b[0m\u001b[1;33m\u001b[0m\u001b[0m\n",
      "\u001b[0m\u001b[1;32m--> 895 \u001b[1;33m        \u001b[1;32mreturn\u001b[0m \u001b[0mitk\u001b[0m\u001b[1;33m.\u001b[0m\u001b[0mdown_cast\u001b[0m\u001b[1;33m(\u001b[0m\u001b[0mobj\u001b[0m\u001b[1;33m)\u001b[0m\u001b[1;33m.\u001b[0m\u001b[0mGetMetaDataObjectValue\u001b[0m\u001b[1;33m(\u001b[0m\u001b[1;33m)\u001b[0m\u001b[1;33m\u001b[0m\u001b[1;33m\u001b[0m\u001b[0m\n",
      "\u001b[0m\u001b[1;32m    896 \u001b[1;33m    \u001b[1;32mdef\u001b[0m \u001b[0m__len__\u001b[0m\u001b[1;33m(\u001b[0m\u001b[0mself\u001b[0m\u001b[1;33m)\u001b[0m\u001b[1;33m:\u001b[0m\u001b[1;33m\u001b[0m\u001b[1;33m\u001b[0m\u001b[0m\n",
      "\u001b[0m\u001b[1;32m    897 \u001b[1;33m        \u001b[1;32mreturn\u001b[0m \u001b[0mself\u001b[0m\u001b[1;33m.\u001b[0m\u001b[0mGetKeys\u001b[0m\u001b[1;33m(\u001b[0m\u001b[1;33m)\u001b[0m\u001b[1;33m.\u001b[0m\u001b[0msize\u001b[0m\u001b[1;33m(\u001b[0m\u001b[1;33m)\u001b[0m\u001b[1;33m\u001b[0m\u001b[1;33m\u001b[0m\u001b[0m\n",
      "\u001b[0m\n"
     ]
    },
    {
     "name": "stdin",
     "output_type": "stream",
     "text": [
      "ipdb>  key\n"
     ]
    },
    {
     "name": "stdout",
     "output_type": "stream",
     "text": [
      "'ITK_original_direction'\n"
     ]
    },
    {
     "name": "stdin",
     "output_type": "stream",
     "text": [
      "ipdb>  q\n"
     ]
    }
   ],
   "source": [
    "%debug"
   ]
  },
  {
   "cell_type": "code",
   "execution_count": 11,
   "metadata": {},
   "outputs": [
    {
     "data": {
      "application/vnd.jupyter.widget-view+json": {
       "model_id": "eae17434c2b84d0c8b21beff0838bddb",
       "version_major": 2,
       "version_minor": 0
      },
      "text/plain": [
       "Viewer(geometries=[], gradient_opacity=0.22, point_sets=[], rendered_image=<itk.itkImagePython.itkImageD3; pro…"
      ]
     },
     "metadata": {},
     "output_type": "display_data"
    }
   ],
   "source": [
    "view(img2)"
   ]
  },
  {
   "cell_type": "raw",
   "metadata": {},
   "source": [
    "view(img2)"
   ]
  },
  {
   "cell_type": "code",
   "execution_count": 55,
   "metadata": {},
   "outputs": [
    {
     "data": {
      "application/vnd.jupyter.widget-view+json": {
       "model_id": "5a3c9e492a4e49109b62a5d3979ff814",
       "version_major": 2,
       "version_minor": 0
      },
      "text/plain": [
       "Viewer(geometries=[], gradient_opacity=0.22, point_sets=[], rendered_image=<itk.itkImagePython.itkImageF3; pro…"
      ]
     },
     "metadata": {},
     "output_type": "display_data"
    }
   ],
   "source": [
    "view(img)"
   ]
  },
  {
   "cell_type": "code",
   "execution_count": 92,
   "metadata": {},
   "outputs": [
    {
     "name": "stdout",
     "output_type": "stream",
     "text": [
      "intercept(shift): -16383.75, scale: 15.999755859375\n",
      "img min: {}, img max: {} -1024.0 3072.0\n",
      "intercept(shift): -16383.75, scale: 15.999755859375\n",
      "img min: {}, img max: {} -1024.0 3072.0\n",
      "intercept(shift): -30324.374152733846, scale: 29.613646633529147\n",
      "img min: {}, img max: {} -1024.0 1189.0\n",
      "intercept(shift): -23382.522648083625, scale: 22.834494773519165\n",
      "img min: {}, img max: {} -1024.0 1846.0\n",
      "intercept(shift): -25419.636363636364, scale: 24.823863636363637\n",
      "img min: {}, img max: {} -1024.0 1616.0\n"
     ]
    }
   ],
   "source": [
    "import numpy as np\n",
    "\n",
    "src_dir = './data/Task09_Spleen/imagesTr'\n",
    "src_files = ['spleen_10.nii.gz', 'spleen_12.nii.gz', 'spleen_13.nii.gz', 'spleen_14.nii.gz', 'spleen_16.nii.gz']\n",
    "label_dir = './data/Task09_Spleen/labelsTr'\n",
    "\n",
    "from pathlib import Path\n",
    "import os\n",
    "outdir = './outdir'\n",
    "os.makedirs(outdir, exist_ok=True)\n",
    "for f in src_files:\n",
    "    base = f.replace('.nii.gz', '')\n",
    "    dicom_f = base + '.dcm'\n",
    "    label_f = base + '.mha'\n",
    "    img = itk.imread(str(Path(src_dir + '/' + f)))\n",
    "    label_img = itk.imread(str(Path(label_dir + '/' + f)))\n",
    "    \n",
    "    float_image_to_dicom(img, str(Path(outdir + '/' + dicom_f)))\n",
    "    itk.imwrite(label_img, str(Path(outdir + '/' + label_f)))\n"
   ]
  },
  {
   "cell_type": "code",
   "execution_count": 86,
   "metadata": {},
   "outputs": [
    {
     "name": "stdout",
     "output_type": "stream",
     "text": [
      "> \u001b[1;32mc:\\src\\venv-3.7.6-prebuilt\\lib\\site-packages\\itktemplate.py\u001b[0m(546)\u001b[0;36m_NewImageReader\u001b[1;34m()\u001b[0m\n",
      "\u001b[1;32m    544 \u001b[1;33m            \u001b[0mimageIO\u001b[0m \u001b[1;33m=\u001b[0m \u001b[0mkwargs\u001b[0m\u001b[1;33m[\u001b[0m\u001b[1;34m\"ImageIO\"\u001b[0m\u001b[1;33m]\u001b[0m\u001b[1;33m\u001b[0m\u001b[1;33m\u001b[0m\u001b[0m\n",
      "\u001b[0m\u001b[1;32m    545 \u001b[1;33m        \u001b[1;32melse\u001b[0m\u001b[1;33m:\u001b[0m\u001b[1;33m\u001b[0m\u001b[1;33m\u001b[0m\u001b[0m\n",
      "\u001b[0m\u001b[1;32m--> 546 \u001b[1;33m            \u001b[0mimageIO\u001b[0m \u001b[1;33m=\u001b[0m \u001b[0mitk\u001b[0m\u001b[1;33m.\u001b[0m\u001b[0mImageIOFactory\u001b[0m\u001b[1;33m.\u001b[0m\u001b[0mCreateImageIO\u001b[0m\u001b[1;33m(\u001b[0m\u001b[0minputFileName\u001b[0m\u001b[1;33m,\u001b[0m \u001b[0mitk\u001b[0m\u001b[1;33m.\u001b[0m\u001b[0mCommonEnums\u001b[0m\u001b[1;33m.\u001b[0m\u001b[0mIOFileMode_ReadMode\u001b[0m\u001b[1;33m)\u001b[0m\u001b[1;33m\u001b[0m\u001b[1;33m\u001b[0m\u001b[0m\n",
      "\u001b[0m\u001b[1;32m    547 \u001b[1;33m        \u001b[1;32mif\u001b[0m \u001b[1;32mnot\u001b[0m \u001b[0mimageIO\u001b[0m\u001b[1;33m:\u001b[0m\u001b[1;33m\u001b[0m\u001b[1;33m\u001b[0m\u001b[0m\n",
      "\u001b[0m\u001b[1;32m    548 \u001b[1;33m            \u001b[0mmsg\u001b[0m \u001b[1;33m=\u001b[0m \u001b[1;34m\"\"\u001b[0m\u001b[1;33m\u001b[0m\u001b[1;33m\u001b[0m\u001b[0m\n",
      "\u001b[0m\n"
     ]
    },
    {
     "name": "stdin",
     "output_type": "stream",
     "text": [
      "ipdb>  inputFileName\n"
     ]
    },
    {
     "name": "stdout",
     "output_type": "stream",
     "text": [
      "WindowsPath('C:/src/ParaViewMedical-MONAI/data/Task09_Spleen/imagesTrspleen_10.nii.gz')\n"
     ]
    },
    {
     "name": "stdin",
     "output_type": "stream",
     "text": [
      "ipdb>  q\n"
     ]
    }
   ],
   "source": [
    "%debug"
   ]
  },
  {
   "cell_type": "code",
   "execution_count": 80,
   "metadata": {},
   "outputs": [
    {
     "name": "stdout",
     "output_type": "stream",
     "text": [
      "Image (0000026BAB1AEA70)\n",
      "  RTTI typeinfo:   class itk::Image<float,3>\n",
      "  Reference Count: 5\n",
      "  Modified Time: 418\n",
      "  Debug: Off\n",
      "  Object Name: \n",
      "  Observers: \n",
      "    none\n",
      "  Source: (none)\n",
      "  Source output name: (none)\n",
      "  Release Data: Off\n",
      "  Data Released: False\n",
      "  Global Release Data: Off\n",
      "  PipelineMTime: 232\n",
      "  UpdateMTime: 417\n",
      "  RealTimeStamp: 0 seconds \n",
      "  LargestPossibleRegion: \n",
      "    Dimension: 3\n",
      "    Index: [0, 0, 0]\n",
      "    Size: [512, 512, 55]\n",
      "  BufferedRegion: \n",
      "    Dimension: 3\n",
      "    Index: [0, 0, 0]\n",
      "    Size: [512, 512, 55]\n",
      "  RequestedRegion: \n",
      "    Dimension: 3\n",
      "    Index: [0, 0, 0]\n",
      "    Size: [512, 512, 55]\n",
      "  Spacing: [0.976562, 0.976562, 5]\n",
      "  Origin: [499.023, 499.023, 0]\n",
      "  Direction: \n",
      "-1 0 0\n",
      "0 -1 0\n",
      "0 0 1\n",
      "\n",
      "  IndexToPointMatrix: \n",
      "-0.976562 0 0\n",
      "0 -0.976562 0\n",
      "0 0 5\n",
      "\n",
      "  PointToIndexMatrix: \n",
      "-1.024 0 0\n",
      "0 -1.024 0\n",
      "0 0 0.2\n",
      "\n",
      "  Inverse Direction: \n",
      "-1 0 0\n",
      "0 -1 0\n",
      "0 0 1\n",
      "\n",
      "  PixelContainer: \n",
      "    ImportImageContainer (0000026BAB89A520)\n",
      "      RTTI typeinfo:   class itk::ImportImageContainer<unsigned __int64,float>\n",
      "      Reference Count: 4\n",
      "      Modified Time: 414\n",
      "      Debug: Off\n",
      "      Object Name: \n",
      "      Observers: \n",
      "        none\n",
      "      Pointer: 0000026BAD197040\n",
      "      Container manages memory: true\n",
      "      Size: 14417920\n",
      "      Capacity: 14417920\n",
      "\n",
      "Image (0000026C04DD9110)\n",
      "  RTTI typeinfo:   class itk::Image<double,3>\n",
      "  Reference Count: 1\n",
      "  Modified Time: 1618\n",
      "  Debug: Off\n",
      "  Object Name: \n",
      "  Observers: \n",
      "    none\n",
      "  Source: (none)\n",
      "  Source output name: (none)\n",
      "  Release Data: Off\n",
      "  Data Released: False\n",
      "  Global Release Data: Off\n",
      "  PipelineMTime: 1438\n",
      "  UpdateMTime: 1617\n",
      "  RealTimeStamp: 0 seconds \n",
      "  LargestPossibleRegion: \n",
      "    Dimension: 3\n",
      "    Index: [0, 0, 0]\n",
      "    Size: [512, 512, 55]\n",
      "  BufferedRegion: \n",
      "    Dimension: 3\n",
      "    Index: [0, 0, 0]\n",
      "    Size: [512, 512, 55]\n",
      "  RequestedRegion: \n",
      "    Dimension: 3\n",
      "    Index: [0, 0, 0]\n",
      "    Size: [512, 512, 55]\n",
      "  Spacing: [0.976562, 0.976562, 5]\n",
      "  Origin: [499.023, 499.023, 0]\n",
      "  Direction: \n",
      "-1 0 0\n",
      "0 -1 0\n",
      "0 0 1\n",
      "\n",
      "  IndexToPointMatrix: \n",
      "-0.976562 0 0\n",
      "0 -0.976562 0\n",
      "0 0 5\n",
      "\n",
      "  PointToIndexMatrix: \n",
      "-1.024 0 0\n",
      "0 -1.024 0\n",
      "0 0 0.2\n",
      "\n",
      "  Inverse Direction: \n",
      "-1 0 0\n",
      "0 -1 0\n",
      "0 0 1\n",
      "\n",
      "  PixelContainer: \n",
      "    ImportImageContainer (0000026C06FAC6F0)\n",
      "      RTTI typeinfo:   class itk::ImportImageContainer<unsigned __int64,double>\n",
      "      Reference Count: 1\n",
      "      Modified Time: 1614\n",
      "      Debug: Off\n",
      "      Object Name: \n",
      "      Observers: \n",
      "        none\n",
      "      Pointer: 0000026C3209A040\n",
      "      Container manages memory: true\n",
      "      Size: 14417920\n",
      "      Capacity: 14417920\n",
      "\n"
     ]
    }
   ],
   "source": [
    "img4 = itk.imread('out.dcm')\n",
    "print(img)\n",
    "print(img4)"
   ]
  },
  {
   "cell_type": "code",
   "execution_count": 64,
   "metadata": {},
   "outputs": [
    {
     "name": "stdout",
     "output_type": "stream",
     "text": [
      "<itkTemplate itk::ImageSeriesWriter>\n",
      "Options:\n",
      "  [<class 'itk.itkImagePython.itkImageCF2'>, <class 'itk.itkImagePython.itkImageCF2'>]\n",
      "  [<class 'itk.itkImagePython.itkImageCF3'>, <class 'itk.itkImagePython.itkImageCF2'>]\n",
      "  [<class 'itk.itkImagePython.itkImageCF3'>, <class 'itk.itkImagePython.itkImageCF3'>]\n",
      "  [<class 'itk.itkImagePython.itkImageCVF22'>, <class 'itk.itkImagePython.itkImageCVF22'>]\n",
      "  [<class 'itk.itkImagePython.itkImageCVF23'>, <class 'itk.itkImagePython.itkImageCVF23'>]\n",
      "  [<class 'itk.itkImagePython.itkImageCVF32'>, <class 'itk.itkImagePython.itkImageCVF32'>]\n",
      "  [<class 'itk.itkImagePython.itkImageCVF33'>, <class 'itk.itkImagePython.itkImageCVF33'>]\n",
      "  [<class 'itk.itkImagePython.itkImageCVF42'>, <class 'itk.itkImagePython.itkImageCVF42'>]\n",
      "  [<class 'itk.itkImagePython.itkImageCVF43'>, <class 'itk.itkImagePython.itkImageCVF43'>]\n",
      "  [<class 'itk.itkImagePython.itkImageD2'>, <class 'itk.itkImagePython.itkImageD2'>]\n",
      "  [<class 'itk.itkImagePython.itkImageD3'>, <class 'itk.itkImagePython.itkImageD2'>]\n",
      "  [<class 'itk.itkImagePython.itkImageD3'>, <class 'itk.itkImagePython.itkImageD3'>]\n",
      "  [<class 'itk.itkImagePython.itkImageF2'>, <class 'itk.itkImagePython.itkImageF2'>]\n",
      "  [<class 'itk.itkImagePython.itkImageF3'>, <class 'itk.itkImagePython.itkImageF2'>]\n",
      "  [<class 'itk.itkImagePython.itkImageF3'>, <class 'itk.itkImagePython.itkImageF3'>]\n",
      "  [<class 'itk.itkImagePython.itkImageRGBAUC2'>, <class 'itk.itkImagePython.itkImageRGBAUC2'>]\n",
      "  [<class 'itk.itkImagePython.itkImageRGBAUC3'>, <class 'itk.itkImagePython.itkImageRGBAUC3'>]\n",
      "  [<class 'itk.itkImagePython.itkImageRGBUC2'>, <class 'itk.itkImagePython.itkImageRGBUC2'>]\n",
      "  [<class 'itk.itkImagePython.itkImageRGBUC3'>, <class 'itk.itkImagePython.itkImageRGBUC2'>]\n",
      "  [<class 'itk.itkImagePython.itkImageRGBUC3'>, <class 'itk.itkImagePython.itkImageRGBUC3'>]\n",
      "  [<class 'itk.itkImagePython.itkImageSS2'>, <class 'itk.itkImagePython.itkImageSS2'>]\n",
      "  [<class 'itk.itkImagePython.itkImageSS3'>, <class 'itk.itkImagePython.itkImageSS2'>]\n",
      "  [<class 'itk.itkImagePython.itkImageSS3'>, <class 'itk.itkImagePython.itkImageSS3'>]\n",
      "  [<class 'itk.itkImagePython.itkImageUC2'>, <class 'itk.itkImagePython.itkImageUC2'>]\n",
      "  [<class 'itk.itkImagePython.itkImageUC3'>, <class 'itk.itkImagePython.itkImageUC2'>]\n",
      "  [<class 'itk.itkImagePython.itkImageUC3'>, <class 'itk.itkImagePython.itkImageUC3'>]\n",
      "  [<class 'itk.itkImagePython.itkImageUS2'>, <class 'itk.itkImagePython.itkImageUS2'>]\n",
      "  [<class 'itk.itkImagePython.itkImageUS3'>, <class 'itk.itkImagePython.itkImageUS2'>]\n",
      "  [<class 'itk.itkImagePython.itkImageUS3'>, <class 'itk.itkImagePython.itkImageUS3'>]\n",
      "  [<class 'itk.itkImagePython.itkImageVF22'>, <class 'itk.itkImagePython.itkImageVF22'>]\n",
      "  [<class 'itk.itkImagePython.itkImageVF23'>, <class 'itk.itkImagePython.itkImageVF23'>]\n",
      "  [<class 'itk.itkImagePython.itkImageVF32'>, <class 'itk.itkImagePython.itkImageVF32'>]\n",
      "  [<class 'itk.itkImagePython.itkImageVF33'>, <class 'itk.itkImagePython.itkImageVF33'>]\n",
      "  [<class 'itk.itkImagePython.itkImageVF42'>, <class 'itk.itkImagePython.itkImageVF42'>]\n",
      "  [<class 'itk.itkImagePython.itkImageVF43'>, <class 'itk.itkImagePython.itkImageVF43'>]\n"
     ]
    }
   ],
   "source": [
    "itk.ImageSeriesWriter.GetTypes()"
   ]
  },
  {
   "cell_type": "code",
   "execution_count": null,
   "metadata": {},
   "outputs": [],
   "source": []
  }
 ],
 "metadata": {
  "kernelspec": {
   "display_name": "Python 3",
   "language": "python",
   "name": "python3"
  },
  "language_info": {
   "codemirror_mode": {
    "name": "ipython",
    "version": 3
   },
   "file_extension": ".py",
   "mimetype": "text/x-python",
   "name": "python",
   "nbconvert_exporter": "python",
   "pygments_lexer": "ipython3",
   "version": "3.7.6"
  }
 },
 "nbformat": 4,
 "nbformat_minor": 4
}

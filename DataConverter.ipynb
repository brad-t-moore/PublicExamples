{
 "cells": [
  {
   "cell_type": "code",
   "execution_count": 4,
   "metadata": {},
   "outputs": [],
   "source": [
    "import itk\n",
    "import os\n",
    "from itkwidgets import view"
   ]
  },
  {
   "cell_type": "code",
   "execution_count": 20,
   "metadata": {},
   "outputs": [
    {
     "name": "stdout",
     "output_type": "stream",
     "text": [
      "Image (00000226084BC440)\n",
      "  RTTI typeinfo:   class itk::Image<float,3>\n",
      "  Reference Count: 1\n",
      "  Modified Time: 2944\n",
      "  Debug: Off\n",
      "  Object Name: \n",
      "  Observers: \n",
      "    none\n",
      "  Source: (none)\n",
      "  Source output name: (none)\n",
      "  Release Data: Off\n",
      "  Data Released: False\n",
      "  Global Release Data: Off\n",
      "  PipelineMTime: 2758\n",
      "  UpdateMTime: 2943\n",
      "  RealTimeStamp: 0 seconds \n",
      "  LargestPossibleRegion: \n",
      "    Dimension: 3\n",
      "    Index: [0, 0, 0]\n",
      "    Size: [512, 512, 55]\n",
      "  BufferedRegion: \n",
      "    Dimension: 3\n",
      "    Index: [0, 0, 0]\n",
      "    Size: [512, 512, 55]\n",
      "  RequestedRegion: \n",
      "    Dimension: 3\n",
      "    Index: [0, 0, 0]\n",
      "    Size: [512, 512, 55]\n",
      "  Spacing: [0.976562, 0.976562, 5]\n",
      "  Origin: [499.023, 499.023, 0]\n",
      "  Direction: \n",
      "-1 0 0\n",
      "0 -1 0\n",
      "0 0 1\n",
      "\n",
      "  IndexToPointMatrix: \n",
      "-0.976562 0 0\n",
      "0 -0.976562 0\n",
      "0 0 5\n",
      "\n",
      "  PointToIndexMatrix: \n",
      "-1.024 0 0\n",
      "0 -1.024 0\n",
      "0 0 0.2\n",
      "\n",
      "  Inverse Direction: \n",
      "-1 0 0\n",
      "0 -1 0\n",
      "0 0 1\n",
      "\n",
      "  PixelContainer: \n",
      "    ImportImageContainer (0000022605789AF0)\n",
      "      RTTI typeinfo:   class itk::ImportImageContainer<unsigned __int64,float>\n",
      "      Reference Count: 1\n",
      "      Modified Time: 2940\n",
      "      Debug: Off\n",
      "      Object Name: \n",
      "      Observers: \n",
      "        none\n",
      "      Pointer: 00000226225D7040\n",
      "      Container manages memory: true\n",
      "      Size: 14417920\n",
      "      Capacity: 14417920\n",
      "\n",
      "{'ITK_FileNotes': '5.0.10', 'aux_file': '', 'bitpix': '32', 'cal_max': '0', 'cal_min': '0', 'datatype': '16', 'descrip': '5.0.10', 'dim[0]': '3', 'dim[1]': '512', 'dim[2]': '512', 'dim[3]': '55', 'dim[4]': '1', 'dim[5]': '1', 'dim[6]': '1', 'dim[7]': '1', 'dim_info': '0', 'intent_code': '0', 'intent_name': '', 'intent_p1': '0', 'intent_p2': '0', 'intent_p3': '0', 'nifti_type': '1', 'pixdim[0]': '0', 'pixdim[1]': '0.976562', 'pixdim[2]': '0.976562', 'pixdim[3]': '5', 'pixdim[4]': '0', 'pixdim[5]': '0', 'pixdim[6]': '0', 'pixdim[7]': '0', 'qform_code': '1', 'qform_code_name': 'NIFTI_XFORM_SCANNER_ANAT', 'qoffset_x': '-499.023', 'qoffset_y': '-499.023', 'qoffset_z': '0', 'quatern_b': '0', 'quatern_c': '0', 'quatern_d': '0', 'scl_inter': '0', 'scl_slope': '1', 'sform_code': '1', 'sform_code_name': 'NIFTI_XFORM_SCANNER_ANAT', 'slice_code': '0', 'slice_duration': '0', 'slice_end': '0', 'slice_start': '0', 'srow_x': '0.976562 0 0 -499.023', 'srow_y': '0 0.976562 0 -499.023', 'srow_z': '0 0 5 0', 'toffset': '0', 'vox_offset': '352', 'xyzt_units': '10', 'origin': array([  0.        , 499.02319336, 499.02319336]), 'spacing': array([5.        , 0.97656202, 0.97656202]), 'direction': array([[ 1.,  0.,  0.],\n",
      "       [ 0., -1.,  0.],\n",
      "       [ 0.,  0., -1.]])}\n"
     ]
    }
   ],
   "source": [
    "img = itk.imread('./spleen_10.nii.gz')\n",
    "print(img)\n",
    "print(dict(img))"
   ]
  },
  {
   "cell_type": "code",
   "execution_count": 6,
   "metadata": {},
   "outputs": [
    {
     "name": "stdout",
     "output_type": "stream",
     "text": [
      "-1024.0 3072.0\n"
     ]
    },
    {
     "ename": "RuntimeError",
     "evalue": "C:\\P\\IPP\\ITK-source\\ITK\\Modules\\IO\\GDCM\\src\\itkGDCMImageIO.cxx:1204:\nitk::ERROR: itk::ERROR: GDCMImageIO(000002267C545310): A Floating point buffer was passed but the stored pixel type was not specified.This is currently not supported",
     "output_type": "error",
     "traceback": [
      "\u001b[1;31m---------------------------------------------------------------------------\u001b[0m",
      "\u001b[1;31mRuntimeError\u001b[0m                              Traceback (most recent call last)",
      "\u001b[1;32m<ipython-input-6-45a4eacd398f>\u001b[0m in \u001b[0;36m<module>\u001b[1;34m\u001b[0m\n\u001b[0;32m      4\u001b[0m \u001b[1;33m\u001b[0m\u001b[0m\n\u001b[0;32m      5\u001b[0m \u001b[0mos\u001b[0m\u001b[1;33m.\u001b[0m\u001b[0mmakedirs\u001b[0m\u001b[1;33m(\u001b[0m\u001b[1;34m'tmp'\u001b[0m\u001b[1;33m,\u001b[0m \u001b[0mexist_ok\u001b[0m\u001b[1;33m=\u001b[0m\u001b[1;32mTrue\u001b[0m\u001b[1;33m)\u001b[0m\u001b[1;33m\u001b[0m\u001b[1;33m\u001b[0m\u001b[0m\n\u001b[1;32m----> 6\u001b[1;33m \u001b[0mitk\u001b[0m\u001b[1;33m.\u001b[0m\u001b[0mimwrite\u001b[0m\u001b[1;33m(\u001b[0m\u001b[0mimg\u001b[0m\u001b[1;33m,\u001b[0m \u001b[1;34m'./tmp/tmp.dcm'\u001b[0m\u001b[1;33m)\u001b[0m\u001b[1;33m\u001b[0m\u001b[1;33m\u001b[0m\u001b[0m\n\u001b[0m",
      "\u001b[1;32mc:\\src\\venv-3.7.6-ml\\lib\\site-packages\\itk\\support\\itkExtras.py\u001b[0m in \u001b[0;36mimwrite\u001b[1;34m(image_or_filter, filename, compression)\u001b[0m\n\u001b[0;32m    619\u001b[0m     )\n\u001b[0;32m    620\u001b[0m     \u001b[0mauto_pipeline\u001b[0m\u001b[1;33m.\u001b[0m\u001b[0mcurrent\u001b[0m \u001b[1;33m=\u001b[0m \u001b[0mtmp_auto_pipeline\u001b[0m\u001b[1;33m\u001b[0m\u001b[1;33m\u001b[0m\u001b[0m\n\u001b[1;32m--> 621\u001b[1;33m     \u001b[0mwriter\u001b[0m\u001b[1;33m.\u001b[0m\u001b[0mUpdate\u001b[0m\u001b[1;33m(\u001b[0m\u001b[1;33m)\u001b[0m\u001b[1;33m\u001b[0m\u001b[1;33m\u001b[0m\u001b[0m\n\u001b[0m\u001b[0;32m    622\u001b[0m \u001b[1;33m\u001b[0m\u001b[0m\n\u001b[0;32m    623\u001b[0m \u001b[1;33m\u001b[0m\u001b[0m\n",
      "\u001b[1;31mRuntimeError\u001b[0m: C:\\P\\IPP\\ITK-source\\ITK\\Modules\\IO\\GDCM\\src\\itkGDCMImageIO.cxx:1204:\nitk::ERROR: itk::ERROR: GDCMImageIO(000002267C545310): A Floating point buffer was passed but the stored pixel type was not specified.This is currently not supported"
     ]
    }
   ],
   "source": [
    "minmax = itk.MinimumMaximumImageCalculator[itk.Image[itk.F, 3]].New(Image=img)\n",
    "minmax.Compute()\n",
    "print(minmax.GetMinimum(), minmax.GetMaximum())\n",
    "\n",
    "os.makedirs('tmp', exist_ok=True)\n",
    "itk.imwrite(img, './tmp/tmp.dcm')"
   ]
  },
  {
   "cell_type": "code",
   "execution_count": 14,
   "metadata": {},
   "outputs": [
    {
     "name": "stdout",
     "output_type": "stream",
     "text": [
      "intercept(shift): -16383.75, scale: 15.999755859375\n",
      "img min: -1024.0, img max: 3072.0\n"
     ]
    }
   ],
   "source": [
    "import numpy as np\n",
    "def float_image_to_dicom(img, fp):\n",
    "    '''\n",
    "    Parameters\n",
    "    ==========\n",
    "    img (itk.Image[itk.F, 3]) : input image\n",
    "    fp (str) : output file path\n",
    "    '''\n",
    "    gdcm2 = itk.GDCMImageIO.New()\n",
    "\n",
    "    rescaler = itk.RescaleIntensityImageFilter.New(Input=img, OutputMinimum=0, OutputMaximum=itk.NumericTraits.US.max())\n",
    "    rescaler.Update()\n",
    "    rescaled_cast = rescaler.GetOutput().astype(itk.US)\n",
    "    img_intercept = -rescaler.GetShift()\n",
    "    img_scale = rescaler.GetScale()\n",
    "    print('intercept(shift): {}, scale: {}'.format(img_intercept, img_scale))\n",
    "\n",
    "    npimg = itk.array_from_image(img)\n",
    "    print('img min: {}, img max: {}'.format(np.min(npimg), np.max(npimg)))\n",
    "    intercept_tag = '0028|1052'\n",
    "    scale_tag = '0028|1053'\n",
    "    \n",
    "    rescaled_cast[intercept_tag] = str(img_intercept)\n",
    "    rescaled_cast[scale_tag] = str(img_scale)\n",
    "    \n",
    "    # consider also bits allocated, bits stored, pixel representation, sample per pixel\n",
    "#     meta = gdcm2.GetMetaDataDictionary()\n",
    "#     meta.Set(intercept_tag, itk.MetaDataObject[str].New(MetaDataObjectValue=str(img_intercept)))\n",
    "#     meta.Set(scale_tag, itk.MetaDataObject[str].New(MetaDataObjectValue=str(img_scale)))\n",
    "\n",
    "    itk.imwrite(rescaled_cast, fp)\n",
    "#     writer = itk.ImageSeriesWriter[itk.Image[itk.US,3],itk.Image[itk.US,3]].New(ImageIO=gdcm2, FileName=fp, Input=caster)\n",
    "#     writer.Update()\n",
    "    \n",
    "float_image_to_dicom(img, './tmp/tmp.dcm')"
   ]
  },
  {
   "cell_type": "code",
   "execution_count": 15,
   "metadata": {},
   "outputs": [
    {
     "name": "stdout",
     "output_type": "stream",
     "text": [
      "Image (00000226084B9FB0)\n",
      "  RTTI typeinfo:   class itk::Image<double,3>\n",
      "  Reference Count: 1\n",
      "  Modified Time: 2567\n",
      "  Debug: Off\n",
      "  Object Name: \n",
      "  Observers: \n",
      "    none\n",
      "  Source: (none)\n",
      "  Source output name: (none)\n",
      "  Release Data: Off\n",
      "  Data Released: False\n",
      "  Global Release Data: Off\n",
      "  PipelineMTime: 2387\n",
      "  UpdateMTime: 2566\n",
      "  RealTimeStamp: 0 seconds \n",
      "  LargestPossibleRegion: \n",
      "    Dimension: 3\n",
      "    Index: [0, 0, 0]\n",
      "    Size: [512, 512, 55]\n",
      "  BufferedRegion: \n",
      "    Dimension: 3\n",
      "    Index: [0, 0, 0]\n",
      "    Size: [512, 512, 55]\n",
      "  RequestedRegion: \n",
      "    Dimension: 3\n",
      "    Index: [0, 0, 0]\n",
      "    Size: [512, 512, 55]\n",
      "  Spacing: [0.976562, 0.976562, 5]\n",
      "  Origin: [499.023, 499.023, 0]\n",
      "  Direction: \n",
      "-1 0 0\n",
      "0 -1 0\n",
      "0 0 1\n",
      "\n",
      "  IndexToPointMatrix: \n",
      "-0.976562 0 0\n",
      "0 -0.976562 0\n",
      "0 0 5\n",
      "\n",
      "  PointToIndexMatrix: \n",
      "-1.024 0 0\n",
      "0 -1.024 0\n",
      "0 0 0.2\n",
      "\n",
      "  Inverse Direction: \n",
      "-1 0 0\n",
      "0 -1 0\n",
      "0 0 1\n",
      "\n",
      "  PixelContainer: \n",
      "    ImportImageContainer (00000226057872F0)\n",
      "      RTTI typeinfo:   class itk::ImportImageContainer<unsigned __int64,double>\n",
      "      Reference Count: 1\n",
      "      Modified Time: 2563\n",
      "      Debug: Off\n",
      "      Object Name: \n",
      "      Observers: \n",
      "        none\n",
      "      Pointer: 00000226149B8040\n",
      "      Container manages memory: true\n",
      "      Size: 14417920\n",
      "      Capacity: 14417920\n",
      "\n",
      "img2 min: 0.0, max: 65535.0\n"
     ]
    }
   ],
   "source": [
    "img2 = itk.imread('./tmp/tmp.dcm')\n",
    "#img2 = itk.imread('./tmp/tmp.dcm', pixel_type=itk.US)\n",
    "print(img2)\n",
    "\n",
    "minmax = itk.MinimumMaximumImageCalculator[itk.Image[itk.D, 3]].New(Image=img2)\n",
    "minmax.Compute()\n",
    "print('img2 min: {}, max: {}'.format(minmax.GetMinimum(), minmax.GetMaximum()))"
   ]
  },
  {
   "cell_type": "code",
   "execution_count": 16,
   "metadata": {},
   "outputs": [
    {
     "data": {
      "text/plain": [
       "{'0008|0016': '1.2.840.10008.5.1.4.1.1.7.3',\n",
       " '0008|0018': '1.2.826.0.1.3680043.2.1125.1.44512228896057025004892280792336607',\n",
       " '0008|0020': '20210218',\n",
       " '0008|0030': '103004.751357 ',\n",
       " '0008|0050': '',\n",
       " '0008|0060': 'OT',\n",
       " '0008|0090': '',\n",
       " '0010|0010': '',\n",
       " '0010|0020': '',\n",
       " '0010|0030': '',\n",
       " '0010|0040': '',\n",
       " '0020|000d': '1.2.826.0.1.3680043.2.1125.1.27003348368731440868281022973358385',\n",
       " '0020|000e': '1.2.826.0.1.3680043.2.1125.1.78911700393739106557370434891287440',\n",
       " '0020|0010': '',\n",
       " '0020|0011': '',\n",
       " '0020|0013': '',\n",
       " '0020|0052': '1.2.826.0.1.3680043.2.1125.1.28123186485110197577539542173366064',\n",
       " '0028|0002': '1',\n",
       " '0028|0004': 'MONOCHROME2 ',\n",
       " '0028|0008': '55',\n",
       " '0028|0009': '(5200,9230)',\n",
       " '0028|0010': '512',\n",
       " '0028|0011': '512',\n",
       " '0028|0100': '16',\n",
       " '0028|0101': '16',\n",
       " '0028|0102': '15',\n",
       " '0028|0103': '0',\n",
       " '0028|1052': '-16383.75 ',\n",
       " '0028|1053': '15.999755859375 ',\n",
       " '0028|1054': 'US',\n",
       " 'origin': array([  0.        , 499.02319336, 499.02319336]),\n",
       " 'spacing': array([5.        , 0.97656202, 0.97656202]),\n",
       " 'direction': array([[ 1.,  0.,  0.],\n",
       "        [ 0., -1.,  0.],\n",
       "        [ 0.,  0., -1.]])}"
      ]
     },
     "execution_count": 16,
     "metadata": {},
     "output_type": "execute_result"
    }
   ],
   "source": [
    "dict(img2)"
   ]
  },
  {
   "cell_type": "code",
   "execution_count": 19,
   "metadata": {},
   "outputs": [
    {
     "name": "stdout",
     "output_type": "stream",
     "text": [
      "dtype: float64, min: 0.0, max: 65535.0\n"
     ]
    }
   ],
   "source": [
    "npimg2 = itk.array_from_image(img2)\n",
    "print('dtype: {}, min: {}, max: {}'.format(npimg2.dtype, np.min(npimg2), np.max(npimg2)))"
   ]
  },
  {
   "cell_type": "code",
   "execution_count": null,
   "metadata": {},
   "outputs": [],
   "source": []
  }
 ],
 "metadata": {
  "kernelspec": {
   "display_name": "Python 3",
   "language": "python",
   "name": "python3"
  },
  "language_info": {
   "codemirror_mode": {
    "name": "ipython",
    "version": 3
   },
   "file_extension": ".py",
   "mimetype": "text/x-python",
   "name": "python",
   "nbconvert_exporter": "python",
   "pygments_lexer": "ipython3",
   "version": "3.7.6"
  }
 },
 "nbformat": 4,
 "nbformat_minor": 4
}

{
 "cells": [
  {
   "cell_type": "code",
   "execution_count": 21,
   "id": "60c97b80",
   "metadata": {},
   "outputs": [
    {
     "name": "stdout",
     "output_type": "stream",
     "text": [
      "itkPointD3 ([0, 0, 0])\n",
      "itkPointD3 ([0, 0.7, 0])\n"
     ]
    },
    {
     "data": {
      "application/vnd.jupyter.widget-view+json": {
       "model_id": "cc7326ba12ed49e9a5d00e3bebcf7981",
       "version_major": 2,
       "version_minor": 0
      },
      "text/plain": [
       "Viewer(geometries=[], gradient_opacity=0.22, point_sets=[], rendered_image=<itk.itkImagePython.itkImageUS3; pr…"
      ]
     },
     "metadata": {},
     "output_type": "display_data"
    }
   ],
   "source": [
    "import itk\n",
    "from itkwidgets import view\n",
    "import numpy as np\n",
    "img = itk.imread('orig-itk.nii')\n",
    "print(img.TransformIndexToPhysicalPoint([0,0,0]))\n",
    "print(img.TransformContinuousIndexToPhysicalPoint(itk.itkContinuousIndexPython.itkContinuousIndexD3([0.0,0.7,0])))\n",
    "view(img)"
   ]
  },
  {
   "cell_type": "code",
   "execution_count": 23,
   "id": "c7959765",
   "metadata": {},
   "outputs": [
    {
     "data": {
      "text/plain": [
       "{'ITK_FileNotes': '',\n",
       " 'aux_file': '',\n",
       " 'bitpix': '16',\n",
       " 'cal_max': '0',\n",
       " 'cal_min': '0',\n",
       " 'datatype': '512',\n",
       " 'descrip': '',\n",
       " 'dim[0]': '3',\n",
       " 'dim[1]': '20',\n",
       " 'dim[2]': '50',\n",
       " 'dim[3]': '5',\n",
       " 'dim[4]': '1',\n",
       " 'dim[5]': '1',\n",
       " 'dim[6]': '1',\n",
       " 'dim[7]': '1',\n",
       " 'dim_info': '0',\n",
       " 'intent_code': '0',\n",
       " 'intent_name': '',\n",
       " 'intent_p1': '0',\n",
       " 'intent_p2': '0',\n",
       " 'intent_p3': '0',\n",
       " 'nifti_type': '1',\n",
       " 'pixdim[0]': '0',\n",
       " 'pixdim[1]': '1',\n",
       " 'pixdim[2]': '1',\n",
       " 'pixdim[3]': '1',\n",
       " 'pixdim[4]': '0',\n",
       " 'pixdim[5]': '0',\n",
       " 'pixdim[6]': '0',\n",
       " 'pixdim[7]': '0',\n",
       " 'qform_code': '1',\n",
       " 'qform_code_name': 'NIFTI_XFORM_SCANNER_ANAT',\n",
       " 'qoffset_x': '-0',\n",
       " 'qoffset_y': '-0',\n",
       " 'qoffset_z': '0',\n",
       " 'quatern_b': '0',\n",
       " 'quatern_c': '0',\n",
       " 'quatern_d': '1',\n",
       " 'scl_inter': '0',\n",
       " 'scl_slope': '1',\n",
       " 'sform_code': '1',\n",
       " 'sform_code_name': 'NIFTI_XFORM_SCANNER_ANAT',\n",
       " 'slice_code': '0',\n",
       " 'slice_duration': '0',\n",
       " 'slice_end': '0',\n",
       " 'slice_start': '0',\n",
       " 'srow_x': '-1 0 0 -0',\n",
       " 'srow_y': '0 -1 0 -0',\n",
       " 'srow_z': '0 0 1 0',\n",
       " 'toffset': '0',\n",
       " 'vox_offset': '352',\n",
       " 'xyzt_units': '2',\n",
       " 'origin': array([0., 0., 0.]),\n",
       " 'spacing': array([1., 1., 1.]),\n",
       " 'direction': array([[1., 0., 0.],\n",
       "        [0., 1., 0.],\n",
       "        [0., 0., 1.]])}"
      ]
     },
     "execution_count": 23,
     "metadata": {},
     "output_type": "execute_result"
    }
   ],
   "source": [
    "dict(img)"
   ]
  },
  {
   "cell_type": "code",
   "execution_count": null,
   "id": "465c494e",
   "metadata": {},
   "outputs": [],
   "source": []
  }
 ],
 "metadata": {
  "kernelspec": {
   "display_name": "Python 3",
   "language": "python",
   "name": "python3"
  },
  "language_info": {
   "codemirror_mode": {
    "name": "ipython",
    "version": 3
   },
   "file_extension": ".py",
   "mimetype": "text/x-python",
   "name": "python",
   "nbconvert_exporter": "python",
   "pygments_lexer": "ipython3",
   "version": "3.7.6"
  }
 },
 "nbformat": 4,
 "nbformat_minor": 5
}
